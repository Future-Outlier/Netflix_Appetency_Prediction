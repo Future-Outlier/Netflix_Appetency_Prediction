{
  "metadata": {
    "kernelspec": {
      "language": "python",
      "display_name": "Python 3",
      "name": "python3"
    },
    "language_info": {
      "pygments_lexer": "ipython3",
      "nbconvert_exporter": "python",
      "version": "3.6.4",
      "file_extension": ".py",
      "codemirror_mode": {
        "name": "ipython",
        "version": 3
      },
      "name": "python",
      "mimetype": "text/x-python"
    },
    "colab": {
      "name": "Netflix_Appetency_Prediction.ipynb",
      "provenance": [],
      "collapsed_sections": []
    },
    "accelerator": "GPU"
  },
  "nbformat_minor": 0,
  "nbformat": 4,
  "cells": [
    {
      "cell_type": "code",
      "source": [
        "from google.colab import drive # Import a library named google.colab\n",
        "drive.mount('/content/drive', force_remount=True) # mount the content to the directory `/content/drive`"
      ],
      "metadata": {
        "colab": {
          "base_uri": "https://localhost:8080/"
        },
        "id": "37Q_YAJ_aNa9",
        "outputId": "a56e3f51-ea1e-4db6-ba3a-f5b1c3bcd79b"
      },
      "execution_count": 1,
      "outputs": [
        {
          "output_type": "stream",
          "name": "stdout",
          "text": [
            "Mounted at /content/drive\n"
          ]
        }
      ]
    },
    {
      "cell_type": "code",
      "source": [
        "%cd /content/drive/MyDrive/Netflix_Appetency_Prediction"
      ],
      "metadata": {
        "colab": {
          "base_uri": "https://localhost:8080/"
        },
        "id": "jT75MuCRaSnI",
        "outputId": "0bdbd97e-d7d7-492a-a7ac-4076d64636c1"
      },
      "execution_count": 2,
      "outputs": [
        {
          "output_type": "stream",
          "name": "stdout",
          "text": [
            "/content/drive/MyDrive/Netflix_Appetency_Prediction\n"
          ]
        }
      ]
    },
    {
      "cell_type": "code",
      "source": [
        "import pandas as pd\n",
        "import seaborn as sns\n",
        "import matplotlib.pyplot as plt\n",
        "from sklearn.model_selection import train_test_split\n",
        "from sklearn.preprocessing import LabelEncoder\n",
        "import warnings\n",
        "warnings.filterwarnings('ignore')"
      ],
      "metadata": {
        "execution": {
          "iopub.status.busy": "2022-02-25T06:35:56.213423Z",
          "iopub.execute_input": "2022-02-25T06:35:56.213766Z",
          "iopub.status.idle": "2022-02-25T06:35:57.512866Z",
          "shell.execute_reply.started": "2022-02-25T06:35:56.213677Z",
          "shell.execute_reply": "2022-02-25T06:35:57.511816Z"
        },
        "trusted": true,
        "id": "RAdcK9xqaMmI"
      },
      "execution_count": 3,
      "outputs": []
    },
    {
      "cell_type": "code",
      "source": [
        "train_df=pd.read_csv('train.csv')"
      ],
      "metadata": {
        "execution": {
          "iopub.status.busy": "2022-02-25T06:36:14.101192Z",
          "iopub.execute_input": "2022-02-25T06:36:14.102414Z",
          "iopub.status.idle": "2022-02-25T06:36:20.020368Z",
          "shell.execute_reply.started": "2022-02-25T06:36:14.102375Z",
          "shell.execute_reply": "2022-02-25T06:36:20.019588Z"
        },
        "trusted": true,
        "id": "EkaL4gGzaMmO"
      },
      "execution_count": 4,
      "outputs": []
    },
    {
      "cell_type": "code",
      "source": [
        "test_df=pd.read_csv('test.csv')"
      ],
      "metadata": {
        "execution": {
          "iopub.status.busy": "2022-02-25T06:36:24.383492Z",
          "iopub.execute_input": "2022-02-25T06:36:24.383917Z",
          "iopub.status.idle": "2022-02-25T06:36:28.884451Z",
          "shell.execute_reply.started": "2022-02-25T06:36:24.383885Z",
          "shell.execute_reply": "2022-02-25T06:36:28.883403Z"
        },
        "trusted": true,
        "id": "5GmLlVbAaMmQ"
      },
      "execution_count": 5,
      "outputs": []
    },
    {
      "cell_type": "code",
      "source": [
        "id_list=test_df['id']"
      ],
      "metadata": {
        "id": "hQ0Yst9ZJ0GQ"
      },
      "execution_count": 6,
      "outputs": []
    },
    {
      "cell_type": "code",
      "source": [
        "train_df.info()"
      ],
      "metadata": {
        "execution": {
          "iopub.status.busy": "2022-02-25T06:35:57.65714Z",
          "iopub.status.idle": "2022-02-25T06:35:57.657538Z",
          "shell.execute_reply.started": "2022-02-25T06:35:57.657333Z",
          "shell.execute_reply": "2022-02-25T06:35:57.657363Z"
        },
        "trusted": true,
        "colab": {
          "base_uri": "https://localhost:8080/"
        },
        "id": "jtff5uMRaMmS",
        "outputId": "dd88e144-748a-46b3-a254-2fdef5e49ac4"
      },
      "execution_count": 7,
      "outputs": [
        {
          "output_type": "stream",
          "name": "stdout",
          "text": [
            "<class 'pandas.core.frame.DataFrame'>\n",
            "RangeIndex: 70000 entries, 0 to 69999\n",
            "Columns: 509 entries, id to feature_506\n",
            "dtypes: float64(143), int64(274), object(92)\n",
            "memory usage: 271.8+ MB\n"
          ]
        }
      ]
    },
    {
      "cell_type": "code",
      "source": [
        "test_df.info()"
      ],
      "metadata": {
        "colab": {
          "base_uri": "https://localhost:8080/"
        },
        "id": "QdCifCAyCb6h",
        "outputId": "d56773ee-51cf-4ffe-db24-2b19407d3051"
      },
      "execution_count": 8,
      "outputs": [
        {
          "output_type": "stream",
          "name": "stdout",
          "text": [
            "<class 'pandas.core.frame.DataFrame'>\n",
            "RangeIndex: 30000 entries, 0 to 29999\n",
            "Columns: 508 entries, id to feature_506\n",
            "dtypes: float64(143), int64(273), object(92)\n",
            "memory usage: 116.3+ MB\n"
          ]
        }
      ]
    },
    {
      "cell_type": "markdown",
      "source": [
        "#1.Find categorical variables and numerical variables"
      ],
      "metadata": {
        "id": "tVZYnUary6HC"
      }
    },
    {
      "cell_type": "code",
      "source": [
        "categorical_var=[column for column in train_df.columns if (train_df[column].dtype=='object') | (len(train_df[column].unique())<=20) ]"
      ],
      "metadata": {
        "execution": {
          "iopub.status.busy": "2022-02-25T06:35:57.659053Z",
          "iopub.status.idle": "2022-02-25T06:35:57.65951Z",
          "shell.execute_reply.started": "2022-02-25T06:35:57.659265Z",
          "shell.execute_reply": "2022-02-25T06:35:57.659294Z"
        },
        "trusted": true,
        "id": "p2EQdJ0uaMmU"
      },
      "execution_count": 9,
      "outputs": []
    },
    {
      "cell_type": "code",
      "source": [
        "numerical_var=train_df.columns.drop(categorical_var)"
      ],
      "metadata": {
        "execution": {
          "iopub.status.busy": "2022-02-25T06:35:57.66309Z",
          "iopub.status.idle": "2022-02-25T06:35:57.66355Z",
          "shell.execute_reply.started": "2022-02-25T06:35:57.663278Z",
          "shell.execute_reply": "2022-02-25T06:35:57.663332Z"
        },
        "trusted": true,
        "id": "QBWtWgYHaMmW"
      },
      "execution_count": 10,
      "outputs": []
    },
    {
      "cell_type": "code",
      "source": [
        "print(\"categorical_var length:\", len(categorical_var), '\\n'\\\n",
        "      \"numerical_var length:\", len(numerical_var))"
      ],
      "metadata": {
        "execution": {
          "iopub.status.busy": "2022-02-25T06:35:57.667765Z",
          "iopub.status.idle": "2022-02-25T06:35:57.668146Z",
          "shell.execute_reply.started": "2022-02-25T06:35:57.667938Z",
          "shell.execute_reply": "2022-02-25T06:35:57.667967Z"
        },
        "trusted": true,
        "colab": {
          "base_uri": "https://localhost:8080/"
        },
        "id": "i6D8ZuY4aMmY",
        "outputId": "89e0bf1a-6dd1-4928-be75-dc8943b320a1"
      },
      "execution_count": 11,
      "outputs": [
        {
          "output_type": "stream",
          "name": "stdout",
          "text": [
            "categorical_var length: 361 \n",
            "numerical_var length: 148\n"
          ]
        }
      ]
    },
    {
      "cell_type": "markdown",
      "source": [
        "#2.Read target feature"
      ],
      "metadata": {
        "id": "MxtYfo2gaMmb"
      }
    },
    {
      "cell_type": "code",
      "source": [
        "train_df['target'].unique()"
      ],
      "metadata": {
        "execution": {
          "iopub.status.busy": "2022-02-25T06:35:57.673419Z",
          "iopub.status.idle": "2022-02-25T06:35:57.673801Z",
          "shell.execute_reply.started": "2022-02-25T06:35:57.673595Z",
          "shell.execute_reply": "2022-02-25T06:35:57.673624Z"
        },
        "trusted": true,
        "colab": {
          "base_uri": "https://localhost:8080/"
        },
        "id": "CQD8U0XCaMme",
        "outputId": "3aa4e785-e74d-4b91-d38f-5f684bdada5e"
      },
      "execution_count": 12,
      "outputs": [
        {
          "output_type": "execute_result",
          "data": {
            "text/plain": [
              "array([0, 1])"
            ]
          },
          "metadata": {},
          "execution_count": 12
        }
      ]
    },
    {
      "cell_type": "code",
      "source": [
        "sns.countplot(train_df['target'])"
      ],
      "metadata": {
        "execution": {
          "iopub.status.busy": "2022-02-25T06:35:57.675133Z",
          "iopub.status.idle": "2022-02-25T06:35:57.675517Z",
          "shell.execute_reply.started": "2022-02-25T06:35:57.675294Z",
          "shell.execute_reply": "2022-02-25T06:35:57.675344Z"
        },
        "trusted": true,
        "colab": {
          "base_uri": "https://localhost:8080/",
          "height": 296
        },
        "id": "Q9iv5KwlaMmf",
        "outputId": "f2c7e9e5-7f9f-4797-8682-7fd45d3756dc"
      },
      "execution_count": 13,
      "outputs": [
        {
          "output_type": "execute_result",
          "data": {
            "text/plain": [
              "<matplotlib.axes._subplots.AxesSubplot at 0x7f50638b9d10>"
            ]
          },
          "metadata": {},
          "execution_count": 13
        },
        {
          "output_type": "display_data",
          "data": {
            "text/plain": [
              "<Figure size 432x288 with 1 Axes>"
            ],
            "image/png": "[encoded data removed]"
          },
          "metadata": {
            "needs_background": "light"
          }
        }
      ]
    },
    {
      "cell_type": "markdown",
      "source": [
        "#3.Observe percentage null values"
      ],
      "metadata": {
        "id": "jvAEp4U6aMmg"
      }
    },
    {
      "cell_type": "code",
      "source": [
        "null_values_columns=[]\n",
        "percent_null_values=[]\n",
        "for column in train_df.columns:\n",
        "    percent_null_value=((train_df[column].isna().sum())/(len(train_df))) * 100\n",
        "    if(percent_null_value > 0):\n",
        "        null_values_columns.append(column)\n",
        "        percent_null_values.append(percent_null_value)\n",
        "df_null=pd.DataFrame(null_values_columns,columns=['column'])\n",
        "df_null['percent_null_values']=percent_null_values\n",
        "df_null.sort_values('percent_null_values',inplace=True)\n",
        "\n",
        "\n",
        "plt.figure(figsize=(10,20))\n",
        "plt.barh(df_null['column'],df_null['percent_null_values'])\n",
        "\n",
        "for i, v in enumerate(df_null['percent_null_values']):\n",
        "    plt.text(v, i, str(v), color='black', fontweight='bold')\n",
        "\n",
        "plt.xlabel('percentage null values')\n",
        "#     print(f'the percentage null values in column {column} is {((train_df[column].isna().sum())/(len(train_df))) * 100} %')\n"
      ],
      "metadata": {
        "execution": {
          "iopub.status.busy": "2022-02-25T06:35:57.676798Z",
          "iopub.status.idle": "2022-02-25T06:35:57.677197Z",
          "shell.execute_reply.started": "2022-02-25T06:35:57.67696Z",
          "shell.execute_reply": "2022-02-25T06:35:57.676989Z"
        },
        "trusted": true,
        "colab": {
          "base_uri": "https://localhost:8080/",
          "height": 1000
        },
        "id": "GzWCeKLBaMmh",
        "outputId": "03d2d161-29fd-40fb-a930-7068cabbd55f"
      },
      "execution_count": 14,
      "outputs": [
        {
          "output_type": "execute_result",
          "data": {
            "text/plain": [
              "Text(0.5, 0, 'percentage null values')"
            ]
          },
          "metadata": {},
          "execution_count": 14
        },
        {
          "output_type": "display_data",
          "data": {
            "text/plain": [
              "<Figure size 720x1440 with 1 Axes>"
            ],
            "image/png": "[encoded data removed]"
          },
          "metadata": {
            "needs_background": "light"
          }
        }
      ]
    },
    {
      "cell_type": "markdown",
      "source": [
        "#4.Drop columns which have zero variance (or only one class)"
      ],
      "metadata": {
        "id": "l6JQLldmaMmj"
      }
    },
    {
      "cell_type": "code",
      "source": [
        "def zero_var(df1):\n",
        "    zero_var_columns=[]\n",
        "    for column in df1.columns:\n",
        "        if(len(df1[column].unique())==1):\n",
        "            zero_var_columns.append(column)\n",
        "    return zero_var_columns"
      ],
      "metadata": {
        "execution": {
          "iopub.status.busy": "2022-02-25T06:35:57.679393Z",
          "iopub.status.idle": "2022-02-25T06:35:57.679805Z",
          "shell.execute_reply.started": "2022-02-25T06:35:57.679605Z",
          "shell.execute_reply": "2022-02-25T06:35:57.679635Z"
        },
        "trusted": true,
        "id": "--cAmngaaMmk"
      },
      "execution_count": 15,
      "outputs": []
    },
    {
      "cell_type": "code",
      "source": [
        "zero_var_columns=zero_var(train_df)"
      ],
      "metadata": {
        "execution": {
          "iopub.status.busy": "2022-02-25T06:35:57.681373Z",
          "iopub.status.idle": "2022-02-25T06:35:57.68192Z",
          "shell.execute_reply.started": "2022-02-25T06:35:57.681694Z",
          "shell.execute_reply": "2022-02-25T06:35:57.681724Z"
        },
        "trusted": true,
        "id": "ALXUa6bPaMml"
      },
      "execution_count": 16,
      "outputs": []
    },
    {
      "cell_type": "code",
      "source": [
        "print(\"Zero variance columns:\", len(zero_var_columns))"
      ],
      "metadata": {
        "execution": {
          "iopub.status.busy": "2022-02-25T06:35:57.684629Z",
          "iopub.status.idle": "2022-02-25T06:35:57.685005Z",
          "shell.execute_reply.started": "2022-02-25T06:35:57.684815Z",
          "shell.execute_reply": "2022-02-25T06:35:57.684839Z"
        },
        "trusted": true,
        "colab": {
          "base_uri": "https://localhost:8080/"
        },
        "id": "YCHgAJ9caMmm",
        "outputId": "f8455fb5-7479-4933-8319-43ace3959013"
      },
      "execution_count": 17,
      "outputs": [
        {
          "output_type": "stream",
          "name": "stdout",
          "text": [
            "Zero variance columns: 63\n"
          ]
        }
      ]
    },
    {
      "cell_type": "code",
      "source": [
        "# many columns have zero variance, we will delete these while data cleaning"
      ],
      "metadata": {
        "execution": {
          "iopub.status.busy": "2022-02-25T06:35:57.686294Z",
          "iopub.status.idle": "2022-02-25T06:35:57.686682Z",
          "shell.execute_reply.started": "2022-02-25T06:35:57.686488Z",
          "shell.execute_reply": "2022-02-25T06:35:57.686516Z"
        },
        "trusted": true,
        "id": "cShTvLH3aMmn"
      },
      "execution_count": 18,
      "outputs": []
    },
    {
      "cell_type": "markdown",
      "source": [
        "# correlation among the features"
      ],
      "metadata": {
        "id": "Hz_skCLtaMmp"
      }
    },
    {
      "cell_type": "code",
      "source": [
        "df_corr=train_df.corr()"
      ],
      "metadata": {
        "execution": {
          "iopub.status.busy": "2022-02-25T06:35:57.688756Z",
          "iopub.status.idle": "2022-02-25T06:35:57.690756Z",
          "shell.execute_reply.started": "2022-02-25T06:35:57.690489Z",
          "shell.execute_reply": "2022-02-25T06:35:57.690538Z"
        },
        "trusted": true,
        "id": "mCoJkG4gaMmp"
      },
      "execution_count": 19,
      "outputs": []
    },
    {
      "cell_type": "markdown",
      "source": [
        "# Data preprocessing"
      ],
      "metadata": {
        "id": "_OebsY1raMms"
      }
    },
    {
      "cell_type": "code",
      "source": [
        "# making a new copy so that the original data set remains unchanged\n",
        "df=train_df.copy()"
      ],
      "metadata": {
        "execution": {
          "iopub.status.busy": "2022-02-25T06:35:57.695603Z",
          "iopub.status.idle": "2022-02-25T06:35:57.695956Z",
          "shell.execute_reply.started": "2022-02-25T06:35:57.695761Z",
          "shell.execute_reply": "2022-02-25T06:35:57.695789Z"
        },
        "trusted": true,
        "id": "t88gzcmxaMmt"
      },
      "execution_count": 20,
      "outputs": []
    },
    {
      "cell_type": "code",
      "source": [
        "df.shape"
      ],
      "metadata": {
        "scrolled": true,
        "execution": {
          "iopub.status.busy": "2022-02-25T06:35:57.697807Z",
          "iopub.status.idle": "2022-02-25T06:35:57.698207Z",
          "shell.execute_reply.started": "2022-02-25T06:35:57.69801Z",
          "shell.execute_reply": "2022-02-25T06:35:57.698037Z"
        },
        "trusted": true,
        "colab": {
          "base_uri": "https://localhost:8080/"
        },
        "id": "XXTcJaToaMmu",
        "outputId": "7793ff53-beb1-4119-a8a0-cf083ce439a9"
      },
      "execution_count": 21,
      "outputs": [
        {
          "output_type": "execute_result",
          "data": {
            "text/plain": [
              "(70000, 509)"
            ]
          },
          "metadata": {},
          "execution_count": 21
        }
      ]
    },
    {
      "cell_type": "code",
      "source": [
        "# removing id column\n",
        "df.drop('id',axis=1,inplace=True)\n",
        "test_df.drop('id',axis=1,inplace=True)"
      ],
      "metadata": {
        "execution": {
          "iopub.status.busy": "2022-02-25T06:35:57.699342Z",
          "iopub.status.idle": "2022-02-25T06:35:57.699713Z",
          "shell.execute_reply.started": "2022-02-25T06:35:57.699518Z",
          "shell.execute_reply": "2022-02-25T06:35:57.699545Z"
        },
        "trusted": true,
        "id": "xETF6ioZaMmv"
      },
      "execution_count": 22,
      "outputs": []
    },
    {
      "cell_type": "markdown",
      "source": [
        "# Handle case about day, month and year"
      ],
      "metadata": {
        "id": "lNbUoY63beQY"
      }
    },
    {
      "cell_type": "code",
      "source": [
        "#there are some date columns , lets convert them into different columns of day , month and year"
      ],
      "metadata": {
        "execution": {
          "iopub.status.busy": "2022-02-25T06:35:57.701351Z",
          "iopub.status.idle": "2022-02-25T06:35:57.701762Z",
          "shell.execute_reply.started": "2022-02-25T06:35:57.701537Z",
          "shell.execute_reply": "2022-02-25T06:35:57.701566Z"
        },
        "trusted": true,
        "id": "C_ImGQbcaMmw"
      },
      "execution_count": 23,
      "outputs": []
    },
    {
      "cell_type": "code",
      "source": [
        "def new_month_column(df2):\n",
        "    return df2.month\n",
        "def new_year_column(df2):\n",
        "    return df2.year\n",
        "def new_day_column(df2):\n",
        "    return df2.day"
      ],
      "metadata": {
        "execution": {
          "iopub.status.busy": "2022-02-25T06:35:59.009272Z",
          "iopub.execute_input": "2022-02-25T06:35:59.009595Z",
          "iopub.status.idle": "2022-02-25T06:35:59.014486Z",
          "shell.execute_reply.started": "2022-02-25T06:35:59.009552Z",
          "shell.execute_reply": "2022-02-25T06:35:59.013668Z"
        },
        "trusted": true,
        "id": "dALboLyWaMmw"
      },
      "execution_count": 24,
      "outputs": []
    },
    {
      "cell_type": "code",
      "source": [
        "def date_change(df1):\n",
        "    df1[['feature_191','feature_192','feature_199','feature_201']]=df1[['feature_191','feature_192','feature_199','feature_201']].astype('datetime64')\n",
        "    for column in ['feature_191','feature_192','feature_199','feature_201']:\n",
        "        df1[column+'_day']=df1[column].apply(new_day_column)\n",
        "        df1[column+'_month']=df1[column].apply(new_month_column)\n",
        "        df1[column+'_year']=df1[column].apply(new_year_column)\n",
        "    df1.drop(['feature_191','feature_192','feature_199','feature_201'],axis=1,inplace=True)\n",
        "    return df1"
      ],
      "metadata": {
        "execution": {
          "iopub.status.busy": "2022-02-25T06:35:59.016158Z",
          "iopub.execute_input": "2022-02-25T06:35:59.016628Z",
          "iopub.status.idle": "2022-02-25T06:35:59.028424Z",
          "shell.execute_reply.started": "2022-02-25T06:35:59.016594Z",
          "shell.execute_reply": "2022-02-25T06:35:59.027391Z"
        },
        "trusted": true,
        "id": "YkEAK_41aMmy"
      },
      "execution_count": 25,
      "outputs": []
    },
    {
      "cell_type": "code",
      "source": [
        "date_change(df)\n",
        "date_change(test_df)"
      ],
      "metadata": {
        "execution": {
          "iopub.status.busy": "2022-02-25T06:36:02.469108Z",
          "iopub.execute_input": "2022-02-25T06:36:02.469405Z",
          "iopub.status.idle": "2022-02-25T06:36:02.487753Z",
          "shell.execute_reply.started": "2022-02-25T06:36:02.469374Z",
          "shell.execute_reply": "2022-02-25T06:36:02.486201Z"
        },
        "trusted": true,
        "colab": {
          "base_uri": "https://localhost:8080/",
          "height": 488
        },
        "id": "sRx6dVxRaMmz",
        "outputId": "2d1cd3c6-c393-4477-f4ce-c3427c6a3e6b"
      },
      "execution_count": 26,
      "outputs": [
        {
          "output_type": "execute_result",
          "data": {
            "text/plain": [
              "      feature_0 feature_1 feature_2 feature_3 feature_4  feature_5  feature_6  \\\n",
              "0            C0        C0        C0        C5        C2     37.638  36.361667   \n",
              "1            C0        C0        C3        C5       C11     32.540  32.540000   \n",
              "2            C0        C0        C1        C5        C1        NaN        NaN   \n",
              "3            C0        C0        C3        C5        C2        NaN        NaN   \n",
              "4            C0        C0        C1        C5       C10        NaN        NaN   \n",
              "...         ...       ...       ...       ...       ...        ...        ...   \n",
              "29995        C0        C0        C3        C5        C7        NaN        NaN   \n",
              "29996        C0        C0        C2        C5        C1        NaN        NaN   \n",
              "29997        C0        C0        C4        C2        C2     44.320  44.320000   \n",
              "29998        C0        C0        C0        C5       C11     45.660  44.223333   \n",
              "29999        C0        C0        C4        C4       C11     30.610  30.739000   \n",
              "\n",
              "       feature_7  feature_8  feature_9  ...  feature_191_year  \\\n",
              "0      42.688333      31.66  31.660000  ...            2017.0   \n",
              "1      39.403333      30.82  30.820000  ...            2017.0   \n",
              "2            NaN        NaN        NaN  ...            2017.0   \n",
              "3            NaN        NaN        NaN  ...            2013.0   \n",
              "4            NaN        NaN        NaN  ...            2017.0   \n",
              "...          ...        ...        ...  ...               ...   \n",
              "29995        NaN        NaN        NaN  ...            2002.0   \n",
              "29996        NaN        NaN        NaN  ...            2016.0   \n",
              "29997  43.959000      42.49  42.490000  ...            2008.0   \n",
              "29998  42.346667      44.13  42.693333  ...            2013.0   \n",
              "29999  30.578333      29.08  29.080000  ...            2008.0   \n",
              "\n",
              "       feature_192_day  feature_192_month  feature_192_year  feature_199_day  \\\n",
              "0                  1.0                9.0            2017.0                1   \n",
              "1                  8.0                1.0            2017.0                8   \n",
              "2                 10.0                3.0            2017.0               10   \n",
              "3                 27.0                1.0            2015.0               27   \n",
              "4                 23.0                1.0            2017.0               23   \n",
              "...                ...                ...               ...              ...   \n",
              "29995             24.0                8.0            2013.0                6   \n",
              "29996              3.0                4.0            2016.0                3   \n",
              "29997             19.0                2.0            2014.0               11   \n",
              "29998              NaN                NaN               NaN                6   \n",
              "29999             21.0               11.0            2014.0               21   \n",
              "\n",
              "       feature_199_month feature_199_year feature_201_day feature_201_month  \\\n",
              "0                      9             2017             1.0               9.0   \n",
              "1                      1             2017             8.0               1.0   \n",
              "2                      3             2017            10.0               3.0   \n",
              "3                      1             2015            27.0               1.0   \n",
              "4                      1             2017            23.0               1.0   \n",
              "...                  ...              ...             ...               ...   \n",
              "29995                  1             2016            17.0              12.0   \n",
              "29996                  4             2016             3.0               4.0   \n",
              "29997                  8             2016            11.0               8.0   \n",
              "29998                  6             2017            18.0               4.0   \n",
              "29999                 11             2014            12.0               1.0   \n",
              "\n",
              "      feature_201_year  \n",
              "0               2017.0  \n",
              "1               2017.0  \n",
              "2               2017.0  \n",
              "3               2015.0  \n",
              "4               2017.0  \n",
              "...                ...  \n",
              "29995           2015.0  \n",
              "29996           2016.0  \n",
              "29997           2016.0  \n",
              "29998           2014.0  \n",
              "29999           2008.0  \n",
              "\n",
              "[30000 rows x 515 columns]"
            ],
            "text/html": [
              "\n",
              "  <div id=\"df-0405574c-535b-42c1-88d3-4377ea7075d7\">\n",
              "    <div class=\"colab-df-container\">\n",
              "      <div>\n",
              "<style scoped>\n",
              "    .dataframe tbody tr th:only-of-type {\n",
              "        vertical-align: middle;\n",
              "    }\n",
              "\n",
              "    .dataframe tbody tr th {\n",
              "        vertical-align: top;\n",
              "    }\n",
              "\n",
              "    .dataframe thead th {\n",
              "        text-align: right;\n",
              "    }\n",
              "</style>\n",
              "<table border=\"1\" class=\"dataframe\">\n",
              "  <thead>\n",
              "    <tr style=\"text-align: right;\">\n",
              "      <th></th>\n",
              "      <th>feature_0</th>\n",
              "      <th>feature_1</th>\n",
              "      <th>feature_2</th>\n",
              "      <th>feature_3</th>\n",
              "      <th>feature_4</th>\n",
              "      <th>feature_5</th>\n",
              "      <th>feature_6</th>\n",
              "      <th>feature_7</th>\n",
              "      <th>feature_8</th>\n",
              "      <th>feature_9</th>\n",
              "      <th>...</th>\n",
              "      <th>feature_191_year</th>\n",
              "      <th>feature_192_day</th>\n",
              "      <th>feature_192_month</th>\n",
              "      <th>feature_192_year</th>\n",
              "      <th>feature_199_day</th>\n",
              "      <th>feature_199_month</th>\n",
              "      <th>feature_199_year</th>\n",
              "      <th>feature_201_day</th>\n",
              "      <th>feature_201_month</th>\n",
              "      <th>feature_201_year</th>\n",
              "    </tr>\n",
              "  </thead>\n",
              "  <tbody>\n",
              "    <tr>\n",
              "      <th>0</th>\n",
              "      <td>C0</td>\n",
              "      <td>C0</td>\n",
              "      <td>C0</td>\n",
              "      <td>C5</td>\n",
              "      <td>C2</td>\n",
              "      <td>37.638</td>\n",
              "      <td>36.361667</td>\n",
              "      <td>42.688333</td>\n",
              "      <td>31.66</td>\n",
              "      <td>31.660000</td>\n",
              "      <td>...</td>\n",
              "      <td>2017.0</td>\n",
              "      <td>1.0</td>\n",
              "      <td>9.0</td>\n",
              "      <td>2017.0</td>\n",
              "      <td>1</td>\n",
              "      <td>9</td>\n",
              "      <td>2017</td>\n",
              "      <td>1.0</td>\n",
              "      <td>9.0</td>\n",
              "      <td>2017.0</td>\n",
              "    </tr>\n",
              "    <tr>\n",
              "      <th>1</th>\n",
              "      <td>C0</td>\n",
              "      <td>C0</td>\n",
              "      <td>C3</td>\n",
              "      <td>C5</td>\n",
              "      <td>C11</td>\n",
              "      <td>32.540</td>\n",
              "      <td>32.540000</td>\n",
              "      <td>39.403333</td>\n",
              "      <td>30.82</td>\n",
              "      <td>30.820000</td>\n",
              "      <td>...</td>\n",
              "      <td>2017.0</td>\n",
              "      <td>8.0</td>\n",
              "      <td>1.0</td>\n",
              "      <td>2017.0</td>\n",
              "      <td>8</td>\n",
              "      <td>1</td>\n",
              "      <td>2017</td>\n",
              "      <td>8.0</td>\n",
              "      <td>1.0</td>\n",
              "      <td>2017.0</td>\n",
              "    </tr>\n",
              "    <tr>\n",
              "      <th>2</th>\n",
              "      <td>C0</td>\n",
              "      <td>C0</td>\n",
              "      <td>C1</td>\n",
              "      <td>C5</td>\n",
              "      <td>C1</td>\n",
              "      <td>NaN</td>\n",
              "      <td>NaN</td>\n",
              "      <td>NaN</td>\n",
              "      <td>NaN</td>\n",
              "      <td>NaN</td>\n",
              "      <td>...</td>\n",
              "      <td>2017.0</td>\n",
              "      <td>10.0</td>\n",
              "      <td>3.0</td>\n",
              "      <td>2017.0</td>\n",
              "      <td>10</td>\n",
              "      <td>3</td>\n",
              "      <td>2017</td>\n",
              "      <td>10.0</td>\n",
              "      <td>3.0</td>\n",
              "      <td>2017.0</td>\n",
              "    </tr>\n",
              "    <tr>\n",
              "      <th>3</th>\n",
              "      <td>C0</td>\n",
              "      <td>C0</td>\n",
              "      <td>C3</td>\n",
              "      <td>C5</td>\n",
              "      <td>C2</td>\n",
              "      <td>NaN</td>\n",
              "      <td>NaN</td>\n",
              "      <td>NaN</td>\n",
              "      <td>NaN</td>\n",
              "      <td>NaN</td>\n",
              "      <td>...</td>\n",
              "      <td>2013.0</td>\n",
              "      <td>27.0</td>\n",
              "      <td>1.0</td>\n",
              "      <td>2015.0</td>\n",
              "      <td>27</td>\n",
              "      <td>1</td>\n",
              "      <td>2015</td>\n",
              "      <td>27.0</td>\n",
              "      <td>1.0</td>\n",
              "      <td>2015.0</td>\n",
              "    </tr>\n",
              "    <tr>\n",
              "      <th>4</th>\n",
              "      <td>C0</td>\n",
              "      <td>C0</td>\n",
              "      <td>C1</td>\n",
              "      <td>C5</td>\n",
              "      <td>C10</td>\n",
              "      <td>NaN</td>\n",
              "      <td>NaN</td>\n",
              "      <td>NaN</td>\n",
              "      <td>NaN</td>\n",
              "      <td>NaN</td>\n",
              "      <td>...</td>\n",
              "      <td>2017.0</td>\n",
              "      <td>23.0</td>\n",
              "      <td>1.0</td>\n",
              "      <td>2017.0</td>\n",
              "      <td>23</td>\n",
              "      <td>1</td>\n",
              "      <td>2017</td>\n",
              "      <td>23.0</td>\n",
              "      <td>1.0</td>\n",
              "      <td>2017.0</td>\n",
              "    </tr>\n",
              "    <tr>\n",
              "      <th>...</th>\n",
              "      <td>...</td>\n",
              "      <td>...</td>\n",
              "      <td>...</td>\n",
              "      <td>...</td>\n",
              "      <td>...</td>\n",
              "      <td>...</td>\n",
              "      <td>...</td>\n",
              "      <td>...</td>\n",
              "      <td>...</td>\n",
              "      <td>...</td>\n",
              "      <td>...</td>\n",
              "      <td>...</td>\n",
              "      <td>...</td>\n",
              "      <td>...</td>\n",
              "      <td>...</td>\n",
              "      <td>...</td>\n",
              "      <td>...</td>\n",
              "      <td>...</td>\n",
              "      <td>...</td>\n",
              "      <td>...</td>\n",
              "      <td>...</td>\n",
              "    </tr>\n",
              "    <tr>\n",
              "      <th>29995</th>\n",
              "      <td>C0</td>\n",
              "      <td>C0</td>\n",
              "      <td>C3</td>\n",
              "      <td>C5</td>\n",
              "      <td>C7</td>\n",
              "      <td>NaN</td>\n",
              "      <td>NaN</td>\n",
              "      <td>NaN</td>\n",
              "      <td>NaN</td>\n",
              "      <td>NaN</td>\n",
              "      <td>...</td>\n",
              "      <td>2002.0</td>\n",
              "      <td>24.0</td>\n",
              "      <td>8.0</td>\n",
              "      <td>2013.0</td>\n",
              "      <td>6</td>\n",
              "      <td>1</td>\n",
              "      <td>2016</td>\n",
              "      <td>17.0</td>\n",
              "      <td>12.0</td>\n",
              "      <td>2015.0</td>\n",
              "    </tr>\n",
              "    <tr>\n",
              "      <th>29996</th>\n",
              "      <td>C0</td>\n",
              "      <td>C0</td>\n",
              "      <td>C2</td>\n",
              "      <td>C5</td>\n",
              "      <td>C1</td>\n",
              "      <td>NaN</td>\n",
              "      <td>NaN</td>\n",
              "      <td>NaN</td>\n",
              "      <td>NaN</td>\n",
              "      <td>NaN</td>\n",
              "      <td>...</td>\n",
              "      <td>2016.0</td>\n",
              "      <td>3.0</td>\n",
              "      <td>4.0</td>\n",
              "      <td>2016.0</td>\n",
              "      <td>3</td>\n",
              "      <td>4</td>\n",
              "      <td>2016</td>\n",
              "      <td>3.0</td>\n",
              "      <td>4.0</td>\n",
              "      <td>2016.0</td>\n",
              "    </tr>\n",
              "    <tr>\n",
              "      <th>29997</th>\n",
              "      <td>C0</td>\n",
              "      <td>C0</td>\n",
              "      <td>C4</td>\n",
              "      <td>C2</td>\n",
              "      <td>C2</td>\n",
              "      <td>44.320</td>\n",
              "      <td>44.320000</td>\n",
              "      <td>43.959000</td>\n",
              "      <td>42.49</td>\n",
              "      <td>42.490000</td>\n",
              "      <td>...</td>\n",
              "      <td>2008.0</td>\n",
              "      <td>19.0</td>\n",
              "      <td>2.0</td>\n",
              "      <td>2014.0</td>\n",
              "      <td>11</td>\n",
              "      <td>8</td>\n",
              "      <td>2016</td>\n",
              "      <td>11.0</td>\n",
              "      <td>8.0</td>\n",
              "      <td>2016.0</td>\n",
              "    </tr>\n",
              "    <tr>\n",
              "      <th>29998</th>\n",
              "      <td>C0</td>\n",
              "      <td>C0</td>\n",
              "      <td>C0</td>\n",
              "      <td>C5</td>\n",
              "      <td>C11</td>\n",
              "      <td>45.660</td>\n",
              "      <td>44.223333</td>\n",
              "      <td>42.346667</td>\n",
              "      <td>44.13</td>\n",
              "      <td>42.693333</td>\n",
              "      <td>...</td>\n",
              "      <td>2013.0</td>\n",
              "      <td>NaN</td>\n",
              "      <td>NaN</td>\n",
              "      <td>NaN</td>\n",
              "      <td>6</td>\n",
              "      <td>6</td>\n",
              "      <td>2017</td>\n",
              "      <td>18.0</td>\n",
              "      <td>4.0</td>\n",
              "      <td>2014.0</td>\n",
              "    </tr>\n",
              "    <tr>\n",
              "      <th>29999</th>\n",
              "      <td>C0</td>\n",
              "      <td>C0</td>\n",
              "      <td>C4</td>\n",
              "      <td>C4</td>\n",
              "      <td>C11</td>\n",
              "      <td>30.610</td>\n",
              "      <td>30.739000</td>\n",
              "      <td>30.578333</td>\n",
              "      <td>29.08</td>\n",
              "      <td>29.080000</td>\n",
              "      <td>...</td>\n",
              "      <td>2008.0</td>\n",
              "      <td>21.0</td>\n",
              "      <td>11.0</td>\n",
              "      <td>2014.0</td>\n",
              "      <td>21</td>\n",
              "      <td>11</td>\n",
              "      <td>2014</td>\n",
              "      <td>12.0</td>\n",
              "      <td>1.0</td>\n",
              "      <td>2008.0</td>\n",
              "    </tr>\n",
              "  </tbody>\n",
              "</table>\n",
              "<p>30000 rows × 515 columns</p>\n",
              "</div>\n",
              "      <button class=\"colab-df-convert\" onclick=\"convertToInteractive('df-0405574c-535b-42c1-88d3-4377ea7075d7')\"\n",
              "              title=\"Convert this dataframe to an interactive table.\"\n",
              "              style=\"display:none;\">\n",
              "        \n",
              "  <svg xmlns=\"http://www.w3.org/2000/svg\" height=\"24px\"viewBox=\"0 0 24 24\"\n",
              "       width=\"24px\">\n",
              "    <path d=\"M0 0h24v24H0V0z\" fill=\"none\"/>\n",
              "    <path d=\"M18.56 5.44l.94 2.06.94-2.06 2.06-.94-2.06-.94-.94-2.06-.94 2.06-2.06.94zm-11 1L8.5 8.5l.94-2.06 2.06-.94-2.06-.94L8.5 2.5l-.94 2.06-2.06.94zm10 10l.94 2.06.94-2.06 2.06-.94-2.06-.94-.94-2.06-.94 2.06-2.06.94z\"/><path d=\"M17.41 7.96l-1.37-1.37c-.4-.4-.92-.59-1.43-.59-.52 0-1.04.2-1.43.59L10.3 9.45l-7.72 7.72c-.78.78-.78 2.05 0 2.83L4 21.41c.39.39.9.59 1.41.59.51 0 1.02-.2 1.41-.59l7.78-7.78 2.81-2.81c.8-.78.8-2.07 0-2.86zM5.41 20L4 18.59l7.72-7.72 1.47 1.35L5.41 20z\"/>\n",
              "  </svg>\n",
              "      </button>\n",
              "      \n",
              "  <style>\n",
              "    .colab-df-container {\n",
              "      display:flex;\n",
              "      flex-wrap:wrap;\n",
              "      gap: 12px;\n",
              "    }\n",
              "\n",
              "    .colab-df-convert {\n",
              "      background-color: #E8F0FE;\n",
              "      border: none;\n",
              "      border-radius: 50%;\n",
              "      cursor: pointer;\n",
              "      display: none;\n",
              "      fill: #1967D2;\n",
              "      height: 32px;\n",
              "      padding: 0 0 0 0;\n",
              "      width: 32px;\n",
              "    }\n",
              "\n",
              "    .colab-df-convert:hover {\n",
              "      background-color: #E2EBFA;\n",
              "      box-shadow: 0px 1px 2px rgba(60, 64, 67, 0.3), 0px 1px 3px 1px rgba(60, 64, 67, 0.15);\n",
              "      fill: #174EA6;\n",
              "    }\n",
              "\n",
              "    [theme=dark] .colab-df-convert {\n",
              "      background-color: #3B4455;\n",
              "      fill: #D2E3FC;\n",
              "    }\n",
              "\n",
              "    [theme=dark] .colab-df-convert:hover {\n",
              "      background-color: #434B5C;\n",
              "      box-shadow: 0px 1px 3px 1px rgba(0, 0, 0, 0.15);\n",
              "      filter: drop-shadow(0px 1px 2px rgba(0, 0, 0, 0.3));\n",
              "      fill: #FFFFFF;\n",
              "    }\n",
              "  </style>\n",
              "\n",
              "      <script>\n",
              "        const buttonEl =\n",
              "          document.querySelector('#df-0405574c-535b-42c1-88d3-4377ea7075d7 button.colab-df-convert');\n",
              "        buttonEl.style.display =\n",
              "          google.colab.kernel.accessAllowed ? 'block' : 'none';\n",
              "\n",
              "        async function convertToInteractive(key) {\n",
              "          const element = document.querySelector('#df-0405574c-535b-42c1-88d3-4377ea7075d7');\n",
              "          const dataTable =\n",
              "            await google.colab.kernel.invokeFunction('convertToInteractive',\n",
              "                                                     [key], {});\n",
              "          if (!dataTable) return;\n",
              "\n",
              "          const docLinkHtml = 'Like what you see? Visit the ' +\n",
              "            '<a target=\"_blank\" href=https://colab.research.google.com/notebooks/data_table.ipynb>data table notebook</a>'\n",
              "            + ' to learn more about interactive tables.';\n",
              "          element.innerHTML = '';\n",
              "          dataTable['output_type'] = 'display_data';\n",
              "          await google.colab.output.renderOutput(dataTable, element);\n",
              "          const docLink = document.createElement('div');\n",
              "          docLink.innerHTML = docLinkHtml;\n",
              "          element.appendChild(docLink);\n",
              "        }\n",
              "      </script>\n",
              "    </div>\n",
              "  </div>\n",
              "  "
            ]
          },
          "metadata": {},
          "execution_count": 26
        }
      ]
    },
    {
      "cell_type": "markdown",
      "source": [
        "# Data cleaning"
      ],
      "metadata": {
        "id": "NC68bPHAaMm0"
      }
    },
    {
      "cell_type": "markdown",
      "source": [
        "## 1. Dropping columns with very large no, of null values (greater than 10%)"
      ],
      "metadata": {
        "id": "AuwbeFM0aMm1"
      }
    },
    {
      "cell_type": "code",
      "source": [
        "print(\"Null value length:\", len(df_null))"
      ],
      "metadata": {
        "execution": {
          "iopub.status.busy": "2022-02-25T06:36:02.491007Z",
          "iopub.status.idle": "2022-02-25T06:36:02.491697Z",
          "shell.execute_reply.started": "2022-02-25T06:36:02.491402Z",
          "shell.execute_reply": "2022-02-25T06:36:02.491427Z"
        },
        "trusted": true,
        "colab": {
          "base_uri": "https://localhost:8080/"
        },
        "id": "EbBe_24AaMm1",
        "outputId": "a7cd1dec-0ed8-4cb6-bec9-75179f3100a4"
      },
      "execution_count": 27,
      "outputs": [
        {
          "output_type": "stream",
          "name": "stdout",
          "text": [
            "Null value length: 73\n"
          ]
        }
      ]
    },
    {
      "cell_type": "code",
      "source": [
        "large_null_columns=df_null[df_null['percent_null_values']>10]['column'].values"
      ],
      "metadata": {
        "execution": {
          "iopub.status.busy": "2022-02-25T06:36:02.493628Z",
          "iopub.status.idle": "2022-02-25T06:36:02.49414Z",
          "shell.execute_reply.started": "2022-02-25T06:36:02.49387Z",
          "shell.execute_reply": "2022-02-25T06:36:02.493902Z"
        },
        "trusted": true,
        "id": "RfLFaBNXaMm2"
      },
      "execution_count": 28,
      "outputs": []
    },
    {
      "cell_type": "code",
      "source": [
        "large_null_columns"
      ],
      "metadata": {
        "execution": {
          "iopub.status.busy": "2022-02-25T06:36:05.725184Z",
          "iopub.execute_input": "2022-02-25T06:36:05.725494Z",
          "iopub.status.idle": "2022-02-25T06:36:05.74065Z",
          "shell.execute_reply.started": "2022-02-25T06:36:05.72546Z",
          "shell.execute_reply": "2022-02-25T06:36:05.739553Z"
        },
        "trusted": true,
        "colab": {
          "base_uri": "https://localhost:8080/"
        },
        "id": "92f_kKMxaMm3",
        "outputId": "3b4da245-39bd-4c10-a250-6a9e0cc51935"
      },
      "execution_count": 29,
      "outputs": [
        {
          "output_type": "execute_result",
          "data": {
            "text/plain": [
              "array(['feature_200', 'feature_153', 'feature_204', 'feature_194',\n",
              "       'feature_202', 'feature_255', 'feature_172', 'feature_203',\n",
              "       'feature_85', 'feature_84', 'feature_86', 'feature_13',\n",
              "       'feature_7', 'feature_10', 'feature_6', 'feature_9', 'feature_12',\n",
              "       'feature_8', 'feature_5', 'feature_11', 'feature_195',\n",
              "       'feature_75', 'feature_76', 'feature_83', 'feature_193',\n",
              "       'feature_198', 'feature_197', 'feature_196'], dtype=object)"
            ]
          },
          "metadata": {},
          "execution_count": 29
        }
      ]
    },
    {
      "cell_type": "code",
      "source": [
        "df.drop(large_null_columns,axis=1,inplace=True)\n",
        "test_df.drop(large_null_columns,axis=1,inplace=True)"
      ],
      "metadata": {
        "execution": {
          "iopub.status.busy": "2022-02-25T06:36:05.741868Z",
          "iopub.status.idle": "2022-02-25T06:36:05.742216Z",
          "shell.execute_reply.started": "2022-02-25T06:36:05.742038Z",
          "shell.execute_reply": "2022-02-25T06:36:05.742056Z"
        },
        "trusted": true,
        "id": "itWVGCxOaMm4"
      },
      "execution_count": 30,
      "outputs": []
    },
    {
      "cell_type": "code",
      "source": [
        "df.shape"
      ],
      "metadata": {
        "execution": {
          "iopub.status.busy": "2022-02-25T06:36:06.38145Z",
          "iopub.status.idle": "2022-02-25T06:36:06.381823Z",
          "shell.execute_reply.started": "2022-02-25T06:36:06.381611Z",
          "shell.execute_reply": "2022-02-25T06:36:06.381653Z"
        },
        "trusted": true,
        "colab": {
          "base_uri": "https://localhost:8080/"
        },
        "id": "EhENFv-OaMm5",
        "outputId": "af21700c-de6b-4818-d1b6-c5579c71f173"
      },
      "execution_count": 31,
      "outputs": [
        {
          "output_type": "execute_result",
          "data": {
            "text/plain": [
              "(70000, 488)"
            ]
          },
          "metadata": {},
          "execution_count": 31
        }
      ]
    },
    {
      "cell_type": "code",
      "source": [
        "test_df.shape"
      ],
      "metadata": {
        "colab": {
          "base_uri": "https://localhost:8080/"
        },
        "id": "BQIH4vj0CDQZ",
        "outputId": "09cf82ad-682c-4f74-9a0c-bca0782d1a2d"
      },
      "execution_count": 32,
      "outputs": [
        {
          "output_type": "execute_result",
          "data": {
            "text/plain": [
              "(30000, 487)"
            ]
          },
          "metadata": {},
          "execution_count": 32
        }
      ]
    },
    {
      "cell_type": "code",
      "source": [
        "null_values_columns=[]\n",
        "percent_null_values=[]\n",
        "for column in df.columns:\n",
        "    percent_null_value=((df[column].isna().sum())/(len(df))) * 100\n",
        "    if(percent_null_value > 0):\n",
        "        null_values_columns.append(column)\n",
        "        percent_null_values.append(percent_null_value)\n",
        "df_null=pd.DataFrame(null_values_columns,columns=['column'])\n",
        "df_null['percent_null_values']=percent_null_values\n",
        "df_null.sort_values('percent_null_values',inplace=True)\n",
        "\n",
        "\n",
        "plt.figure(figsize=(10,20))\n",
        "plt.barh(df_null['column'],df_null['percent_null_values'])\n",
        "\n",
        "for i, v in enumerate(df_null['percent_null_values']):\n",
        "    plt.text(v, i, str(v), color='black', fontweight='bold')\n",
        "\n",
        "plt.xlabel('percentage null values')"
      ],
      "metadata": {
        "execution": {
          "iopub.status.busy": "2022-02-25T06:36:06.391292Z",
          "iopub.execute_input": "2022-02-25T06:36:06.391559Z",
          "iopub.status.idle": "2022-02-25T06:36:06.416402Z",
          "shell.execute_reply.started": "2022-02-25T06:36:06.391529Z",
          "shell.execute_reply": "2022-02-25T06:36:06.414382Z"
        },
        "trusted": true,
        "colab": {
          "base_uri": "https://localhost:8080/",
          "height": 1000
        },
        "id": "EJ0maedGaMm5",
        "outputId": "f61f68c2-daa1-4ed4-db79-4750bb51b0cb"
      },
      "execution_count": 33,
      "outputs": [
        {
          "output_type": "execute_result",
          "data": {
            "text/plain": [
              "Text(0.5, 0, 'percentage null values')"
            ]
          },
          "metadata": {},
          "execution_count": 33
        },
        {
          "output_type": "display_data",
          "data": {
            "text/plain": [
              "<Figure size 720x1440 with 1 Axes>"
            ],
            "image/png": "[encoded data removed]"
          },
          "metadata": {
            "needs_background": "light"
          }
        }
      ]
    },
    {
      "cell_type": "code",
      "source": [
        "# successfully dropped the columns with large no. of na values"
      ],
      "metadata": {
        "execution": {
          "iopub.status.busy": "2022-02-25T06:36:06.417499Z",
          "iopub.status.idle": "2022-02-25T06:36:06.417974Z",
          "shell.execute_reply.started": "2022-02-25T06:36:06.417772Z",
          "shell.execute_reply": "2022-02-25T06:36:06.417794Z"
        },
        "trusted": true,
        "id": "rmPxTnltaMm7"
      },
      "execution_count": 34,
      "outputs": []
    },
    {
      "cell_type": "markdown",
      "source": [
        "# 2. deleting columns with high correlation"
      ],
      "metadata": {
        "id": "mcodOlVGaMm8"
      }
    },
    {
      "cell_type": "code",
      "source": [
        "# deleting the columns with high correlation\n",
        "\n",
        "def correlation(dataset, threshold):\n",
        "    col_corr = set() # Set of all the names of deleted columns\n",
        "    corr_matrix = dataset.corr()\n",
        "    for i in range(len(corr_matrix.columns)):\n",
        "        for j in range(i):\n",
        "            if (abs(corr_matrix.iloc[i, j]) >= threshold) and (corr_matrix.columns[j] not in col_corr):\n",
        "                colname = corr_matrix.columns[i] # getting the name of column\n",
        "                col_corr.add(colname)\n",
        "                if colname in dataset.columns:\n",
        "                    del dataset[colname] # deleting the column from the dataset\n",
        "    return col_corr"
      ],
      "metadata": {
        "execution": {
          "iopub.status.busy": "2022-02-25T06:36:06.419453Z",
          "iopub.status.idle": "2022-02-25T06:36:06.419832Z",
          "shell.execute_reply.started": "2022-02-25T06:36:06.419645Z",
          "shell.execute_reply": "2022-02-25T06:36:06.419666Z"
        },
        "trusted": true,
        "id": "jo292Mm0aMm9"
      },
      "execution_count": 35,
      "outputs": []
    },
    {
      "cell_type": "code",
      "source": [
        "high_corr_deleted=correlation(df,0.90)"
      ],
      "metadata": {
        "execution": {
          "iopub.status.busy": "2022-02-25T06:36:06.420583Z",
          "iopub.status.idle": "2022-02-25T06:36:06.42091Z",
          "shell.execute_reply.started": "2022-02-25T06:36:06.420729Z",
          "shell.execute_reply": "2022-02-25T06:36:06.420747Z"
        },
        "trusted": true,
        "id": "eUjtfNO7aMm-"
      },
      "execution_count": 36,
      "outputs": []
    },
    {
      "cell_type": "code",
      "source": [
        "test_df.drop(high_corr_deleted,axis=1,inplace=True)"
      ],
      "metadata": {
        "execution": {
          "iopub.status.busy": "2022-02-25T06:36:06.450843Z",
          "iopub.execute_input": "2022-02-25T06:36:06.451123Z",
          "iopub.status.idle": "2022-02-25T06:36:06.467948Z",
          "shell.execute_reply.started": "2022-02-25T06:36:06.451092Z",
          "shell.execute_reply": "2022-02-25T06:36:06.466545Z"
        },
        "trusted": true,
        "id": "lNFL3NlqaMm_"
      },
      "execution_count": 37,
      "outputs": []
    },
    {
      "cell_type": "code",
      "source": [
        "print(\"high_corr_deleted length:\", len(high_corr_deleted))"
      ],
      "metadata": {
        "execution": {
          "iopub.status.busy": "2022-02-25T06:36:06.469455Z",
          "iopub.status.idle": "2022-02-25T06:36:06.470125Z",
          "shell.execute_reply.started": "2022-02-25T06:36:06.469785Z",
          "shell.execute_reply": "2022-02-25T06:36:06.469819Z"
        },
        "trusted": true,
        "colab": {
          "base_uri": "https://localhost:8080/"
        },
        "id": "W1-DJNEPaMnA",
        "outputId": "c14816a4-d12a-4920-f2f5-f12ad5d5e7ba"
      },
      "execution_count": 38,
      "outputs": [
        {
          "output_type": "stream",
          "name": "stdout",
          "text": [
            "high_corr_deleted length: 121\n"
          ]
        }
      ]
    },
    {
      "cell_type": "code",
      "source": [
        "df.shape"
      ],
      "metadata": {
        "execution": {
          "iopub.status.busy": "2022-02-25T06:36:06.472582Z",
          "iopub.status.idle": "2022-02-25T06:36:06.473079Z",
          "shell.execute_reply.started": "2022-02-25T06:36:06.472762Z",
          "shell.execute_reply": "2022-02-25T06:36:06.472782Z"
        },
        "trusted": true,
        "colab": {
          "base_uri": "https://localhost:8080/"
        },
        "id": "gidFQ9f0aMnB",
        "outputId": "2de4a4c4-4717-48e5-9279-fc37234e6d35"
      },
      "execution_count": 39,
      "outputs": [
        {
          "output_type": "execute_result",
          "data": {
            "text/plain": [
              "(70000, 367)"
            ]
          },
          "metadata": {},
          "execution_count": 39
        }
      ]
    },
    {
      "cell_type": "code",
      "source": [
        "df.head()"
      ],
      "metadata": {
        "execution": {
          "iopub.status.busy": "2022-02-25T06:36:06.482327Z",
          "iopub.execute_input": "2022-02-25T06:36:06.482589Z",
          "iopub.status.idle": "2022-02-25T06:36:06.499027Z",
          "shell.execute_reply.started": "2022-02-25T06:36:06.482558Z",
          "shell.execute_reply": "2022-02-25T06:36:06.497892Z"
        },
        "trusted": true,
        "colab": {
          "base_uri": "https://localhost:8080/",
          "height": 300
        },
        "id": "3FsgfOOHaMnC",
        "outputId": "8faffdcd-d901-4e1d-ede4-47d746a10fe7"
      },
      "execution_count": 40,
      "outputs": [
        {
          "output_type": "execute_result",
          "data": {
            "text/plain": [
              "   target feature_0 feature_1 feature_2 feature_3 feature_4  feature_14  \\\n",
              "0       0        C0        C0        C1        C5       C11         0.0   \n",
              "1       0        C0        C0        C3        C5        C1         0.0   \n",
              "2       0        C0        C0        C3        C5        C2         0.0   \n",
              "3       0        C0        C0        C1        C5        C1         0.0   \n",
              "4       1        C0        C0        C3        C3       C11         0.0   \n",
              "\n",
              "   feature_15 feature_16 feature_17  ... feature_191_month feature_192_day  \\\n",
              "0       0.000         C0        C60  ...              11.0            10.0   \n",
              "1       0.000         C2        C50  ...               3.0            25.0   \n",
              "2       0.000         C1        C76  ...               1.0            27.0   \n",
              "3       0.000         C0        C58  ...               5.0             4.0   \n",
              "4       0.258         C2        C48  ...               7.0             9.0   \n",
              "\n",
              "  feature_192_month feature_192_year feature_199_day feature_199_month  \\\n",
              "0              11.0           2017.0              10                11   \n",
              "1               3.0           2015.0               4                 2   \n",
              "2               1.0           2015.0              24                 3   \n",
              "3               1.0           2014.0               4                 1   \n",
              "4              10.0           2013.0               9                10   \n",
              "\n",
              "  feature_199_year  feature_201_day feature_201_month feature_201_year  \n",
              "0             2017             10.0              11.0           2017.0  \n",
              "1             2017             25.0               3.0           2015.0  \n",
              "2             2016             27.0               1.0           2015.0  \n",
              "3             2014              4.0               1.0           2014.0  \n",
              "4             2013              9.0              10.0           2013.0  \n",
              "\n",
              "[5 rows x 367 columns]"
            ],
            "text/html": [
              "\n",
              "  <div id=\"df-da5feaf8-5b78-477d-844b-2de59b2bcaa7\">\n",
              "    <div class=\"colab-df-container\">\n",
              "      <div>\n",
              "<style scoped>\n",
              "    .dataframe tbody tr th:only-of-type {\n",
              "        vertical-align: middle;\n",
              "    }\n",
              "\n",
              "    .dataframe tbody tr th {\n",
              "        vertical-align: top;\n",
              "    }\n",
              "\n",
              "    .dataframe thead th {\n",
              "        text-align: right;\n",
              "    }\n",
              "</style>\n",
              "<table border=\"1\" class=\"dataframe\">\n",
              "  <thead>\n",
              "    <tr style=\"text-align: right;\">\n",
              "      <th></th>\n",
              "      <th>target</th>\n",
              "      <th>feature_0</th>\n",
              "      <th>feature_1</th>\n",
              "      <th>feature_2</th>\n",
              "      <th>feature_3</th>\n",
              "      <th>feature_4</th>\n",
              "      <th>feature_14</th>\n",
              "      <th>feature_15</th>\n",
              "      <th>feature_16</th>\n",
              "      <th>feature_17</th>\n",
              "      <th>...</th>\n",
              "      <th>feature_191_month</th>\n",
              "      <th>feature_192_day</th>\n",
              "      <th>feature_192_month</th>\n",
              "      <th>feature_192_year</th>\n",
              "      <th>feature_199_day</th>\n",
              "      <th>feature_199_month</th>\n",
              "      <th>feature_199_year</th>\n",
              "      <th>feature_201_day</th>\n",
              "      <th>feature_201_month</th>\n",
              "      <th>feature_201_year</th>\n",
              "    </tr>\n",
              "  </thead>\n",
              "  <tbody>\n",
              "    <tr>\n",
              "      <th>0</th>\n",
              "      <td>0</td>\n",
              "      <td>C0</td>\n",
              "      <td>C0</td>\n",
              "      <td>C1</td>\n",
              "      <td>C5</td>\n",
              "      <td>C11</td>\n",
              "      <td>0.0</td>\n",
              "      <td>0.000</td>\n",
              "      <td>C0</td>\n",
              "      <td>C60</td>\n",
              "      <td>...</td>\n",
              "      <td>11.0</td>\n",
              "      <td>10.0</td>\n",
              "      <td>11.0</td>\n",
              "      <td>2017.0</td>\n",
              "      <td>10</td>\n",
              "      <td>11</td>\n",
              "      <td>2017</td>\n",
              "      <td>10.0</td>\n",
              "      <td>11.0</td>\n",
              "      <td>2017.0</td>\n",
              "    </tr>\n",
              "    <tr>\n",
              "      <th>1</th>\n",
              "      <td>0</td>\n",
              "      <td>C0</td>\n",
              "      <td>C0</td>\n",
              "      <td>C3</td>\n",
              "      <td>C5</td>\n",
              "      <td>C1</td>\n",
              "      <td>0.0</td>\n",
              "      <td>0.000</td>\n",
              "      <td>C2</td>\n",
              "      <td>C50</td>\n",
              "      <td>...</td>\n",
              "      <td>3.0</td>\n",
              "      <td>25.0</td>\n",
              "      <td>3.0</td>\n",
              "      <td>2015.0</td>\n",
              "      <td>4</td>\n",
              "      <td>2</td>\n",
              "      <td>2017</td>\n",
              "      <td>25.0</td>\n",
              "      <td>3.0</td>\n",
              "      <td>2015.0</td>\n",
              "    </tr>\n",
              "    <tr>\n",
              "      <th>2</th>\n",
              "      <td>0</td>\n",
              "      <td>C0</td>\n",
              "      <td>C0</td>\n",
              "      <td>C3</td>\n",
              "      <td>C5</td>\n",
              "      <td>C2</td>\n",
              "      <td>0.0</td>\n",
              "      <td>0.000</td>\n",
              "      <td>C1</td>\n",
              "      <td>C76</td>\n",
              "      <td>...</td>\n",
              "      <td>1.0</td>\n",
              "      <td>27.0</td>\n",
              "      <td>1.0</td>\n",
              "      <td>2015.0</td>\n",
              "      <td>24</td>\n",
              "      <td>3</td>\n",
              "      <td>2016</td>\n",
              "      <td>27.0</td>\n",
              "      <td>1.0</td>\n",
              "      <td>2015.0</td>\n",
              "    </tr>\n",
              "    <tr>\n",
              "      <th>3</th>\n",
              "      <td>0</td>\n",
              "      <td>C0</td>\n",
              "      <td>C0</td>\n",
              "      <td>C1</td>\n",
              "      <td>C5</td>\n",
              "      <td>C1</td>\n",
              "      <td>0.0</td>\n",
              "      <td>0.000</td>\n",
              "      <td>C0</td>\n",
              "      <td>C58</td>\n",
              "      <td>...</td>\n",
              "      <td>5.0</td>\n",
              "      <td>4.0</td>\n",
              "      <td>1.0</td>\n",
              "      <td>2014.0</td>\n",
              "      <td>4</td>\n",
              "      <td>1</td>\n",
              "      <td>2014</td>\n",
              "      <td>4.0</td>\n",
              "      <td>1.0</td>\n",
              "      <td>2014.0</td>\n",
              "    </tr>\n",
              "    <tr>\n",
              "      <th>4</th>\n",
              "      <td>1</td>\n",
              "      <td>C0</td>\n",
              "      <td>C0</td>\n",
              "      <td>C3</td>\n",
              "      <td>C3</td>\n",
              "      <td>C11</td>\n",
              "      <td>0.0</td>\n",
              "      <td>0.258</td>\n",
              "      <td>C2</td>\n",
              "      <td>C48</td>\n",
              "      <td>...</td>\n",
              "      <td>7.0</td>\n",
              "      <td>9.0</td>\n",
              "      <td>10.0</td>\n",
              "      <td>2013.0</td>\n",
              "      <td>9</td>\n",
              "      <td>10</td>\n",
              "      <td>2013</td>\n",
              "      <td>9.0</td>\n",
              "      <td>10.0</td>\n",
              "      <td>2013.0</td>\n",
              "    </tr>\n",
              "  </tbody>\n",
              "</table>\n",
              "<p>5 rows × 367 columns</p>\n",
              "</div>\n",
              "      <button class=\"colab-df-convert\" onclick=\"convertToInteractive('df-da5feaf8-5b78-477d-844b-2de59b2bcaa7')\"\n",
              "              title=\"Convert this dataframe to an interactive table.\"\n",
              "              style=\"display:none;\">\n",
              "        \n",
              "  <svg xmlns=\"http://www.w3.org/2000/svg\" height=\"24px\"viewBox=\"0 0 24 24\"\n",
              "       width=\"24px\">\n",
              "    <path d=\"M0 0h24v24H0V0z\" fill=\"none\"/>\n",
              "    <path d=\"M18.56 5.44l.94 2.06.94-2.06 2.06-.94-2.06-.94-.94-2.06-.94 2.06-2.06.94zm-11 1L8.5 8.5l.94-2.06 2.06-.94-2.06-.94L8.5 2.5l-.94 2.06-2.06.94zm10 10l.94 2.06.94-2.06 2.06-.94-2.06-.94-.94-2.06-.94 2.06-2.06.94z\"/><path d=\"M17.41 7.96l-1.37-1.37c-.4-.4-.92-.59-1.43-.59-.52 0-1.04.2-1.43.59L10.3 9.45l-7.72 7.72c-.78.78-.78 2.05 0 2.83L4 21.41c.39.39.9.59 1.41.59.51 0 1.02-.2 1.41-.59l7.78-7.78 2.81-2.81c.8-.78.8-2.07 0-2.86zM5.41 20L4 18.59l7.72-7.72 1.47 1.35L5.41 20z\"/>\n",
              "  </svg>\n",
              "      </button>\n",
              "      \n",
              "  <style>\n",
              "    .colab-df-container {\n",
              "      display:flex;\n",
              "      flex-wrap:wrap;\n",
              "      gap: 12px;\n",
              "    }\n",
              "\n",
              "    .colab-df-convert {\n",
              "      background-color: #E8F0FE;\n",
              "      border: none;\n",
              "      border-radius: 50%;\n",
              "      cursor: pointer;\n",
              "      display: none;\n",
              "      fill: #1967D2;\n",
              "      height: 32px;\n",
              "      padding: 0 0 0 0;\n",
              "      width: 32px;\n",
              "    }\n",
              "\n",
              "    .colab-df-convert:hover {\n",
              "      background-color: #E2EBFA;\n",
              "      box-shadow: 0px 1px 2px rgba(60, 64, 67, 0.3), 0px 1px 3px 1px rgba(60, 64, 67, 0.15);\n",
              "      fill: #174EA6;\n",
              "    }\n",
              "\n",
              "    [theme=dark] .colab-df-convert {\n",
              "      background-color: #3B4455;\n",
              "      fill: #D2E3FC;\n",
              "    }\n",
              "\n",
              "    [theme=dark] .colab-df-convert:hover {\n",
              "      background-color: #434B5C;\n",
              "      box-shadow: 0px 1px 3px 1px rgba(0, 0, 0, 0.15);\n",
              "      filter: drop-shadow(0px 1px 2px rgba(0, 0, 0, 0.3));\n",
              "      fill: #FFFFFF;\n",
              "    }\n",
              "  </style>\n",
              "\n",
              "      <script>\n",
              "        const buttonEl =\n",
              "          document.querySelector('#df-da5feaf8-5b78-477d-844b-2de59b2bcaa7 button.colab-df-convert');\n",
              "        buttonEl.style.display =\n",
              "          google.colab.kernel.accessAllowed ? 'block' : 'none';\n",
              "\n",
              "        async function convertToInteractive(key) {\n",
              "          const element = document.querySelector('#df-da5feaf8-5b78-477d-844b-2de59b2bcaa7');\n",
              "          const dataTable =\n",
              "            await google.colab.kernel.invokeFunction('convertToInteractive',\n",
              "                                                     [key], {});\n",
              "          if (!dataTable) return;\n",
              "\n",
              "          const docLinkHtml = 'Like what you see? Visit the ' +\n",
              "            '<a target=\"_blank\" href=https://colab.research.google.com/notebooks/data_table.ipynb>data table notebook</a>'\n",
              "            + ' to learn more about interactive tables.';\n",
              "          element.innerHTML = '';\n",
              "          dataTable['output_type'] = 'display_data';\n",
              "          await google.colab.output.renderOutput(dataTable, element);\n",
              "          const docLink = document.createElement('div');\n",
              "          docLink.innerHTML = docLinkHtml;\n",
              "          element.appendChild(docLink);\n",
              "        }\n",
              "      </script>\n",
              "    </div>\n",
              "  </div>\n",
              "  "
            ]
          },
          "metadata": {},
          "execution_count": 40
        }
      ]
    },
    {
      "cell_type": "markdown",
      "source": [
        "# 3. Deleting columns with zero variance"
      ],
      "metadata": {
        "id": "MByFPFiHaMnD"
      }
    },
    {
      "cell_type": "code",
      "source": [
        "# many columns have zero variance, we will delete these while data cleaning\n",
        "def zero_var(df1):\n",
        "    zero_var_columns=[]\n",
        "    for column in df1.columns:\n",
        "        if(len(df1[column].unique())==1):\n",
        "            df1.drop(column, axis=1, inplace=True)\n",
        "            zero_var_columns.append(column)\n",
        "    return zero_var_columns\n",
        "\n",
        "zero_var_columns=zero_var(df)"
      ],
      "metadata": {
        "execution": {
          "iopub.status.busy": "2022-02-25T06:36:06.499901Z",
          "iopub.status.idle": "2022-02-25T06:36:06.500245Z",
          "shell.execute_reply.started": "2022-02-25T06:36:06.50006Z",
          "shell.execute_reply": "2022-02-25T06:36:06.50008Z"
        },
        "trusted": true,
        "id": "GSFV0s57aMnD"
      },
      "execution_count": 41,
      "outputs": []
    },
    {
      "cell_type": "code",
      "source": [
        "print(\"zero_var_columns length:\", len(zero_var_columns))"
      ],
      "metadata": {
        "execution": {
          "iopub.status.busy": "2022-02-25T06:36:06.503769Z",
          "iopub.execute_input": "2022-02-25T06:36:06.504001Z",
          "iopub.status.idle": "2022-02-25T06:36:06.523776Z",
          "shell.execute_reply.started": "2022-02-25T06:36:06.503971Z",
          "shell.execute_reply": "2022-02-25T06:36:06.522342Z"
        },
        "trusted": true,
        "colab": {
          "base_uri": "https://localhost:8080/"
        },
        "id": "uFnalEKpaMnE",
        "outputId": "7ca360ad-80e7-4f04-9769-e7fa5134f713"
      },
      "execution_count": 42,
      "outputs": [
        {
          "output_type": "stream",
          "name": "stdout",
          "text": [
            "zero_var_columns length: 59\n"
          ]
        }
      ]
    },
    {
      "cell_type": "code",
      "source": [
        "test_df.drop(zero_var_columns,axis=1,inplace=True)"
      ],
      "metadata": {
        "execution": {
          "iopub.status.busy": "2022-02-25T06:36:06.525138Z",
          "iopub.status.idle": "2022-02-25T06:36:06.526144Z",
          "shell.execute_reply.started": "2022-02-25T06:36:06.525935Z",
          "shell.execute_reply": "2022-02-25T06:36:06.525958Z"
        },
        "trusted": true,
        "id": "kNgDdy6xaMnF"
      },
      "execution_count": 43,
      "outputs": []
    },
    {
      "cell_type": "code",
      "source": [
        "df.shape"
      ],
      "metadata": {
        "execution": {
          "iopub.status.busy": "2022-02-25T06:36:06.527757Z",
          "iopub.status.idle": "2022-02-25T06:36:06.528695Z",
          "shell.execute_reply.started": "2022-02-25T06:36:06.528377Z",
          "shell.execute_reply": "2022-02-25T06:36:06.528414Z"
        },
        "trusted": true,
        "colab": {
          "base_uri": "https://localhost:8080/"
        },
        "id": "4PZQDy8uaMnG",
        "outputId": "c09d396b-304e-438f-db8a-0cd28b988af3"
      },
      "execution_count": 44,
      "outputs": [
        {
          "output_type": "execute_result",
          "data": {
            "text/plain": [
              "(70000, 308)"
            ]
          },
          "metadata": {},
          "execution_count": 44
        }
      ]
    },
    {
      "cell_type": "code",
      "source": [
        "test_df.shape"
      ],
      "metadata": {
        "colab": {
          "base_uri": "https://localhost:8080/"
        },
        "id": "JtF16gRzEpe3",
        "outputId": "bf2f3e1a-b58c-4a2f-a4ed-1b578d3a36b0"
      },
      "execution_count": 45,
      "outputs": [
        {
          "output_type": "execute_result",
          "data": {
            "text/plain": [
              "(30000, 307)"
            ]
          },
          "metadata": {},
          "execution_count": 45
        }
      ]
    },
    {
      "cell_type": "markdown",
      "source": [
        "#4.Handle categorical variables"
      ],
      "metadata": {
        "id": "vOaoVhTR1d-5"
      }
    },
    {
      "cell_type": "code",
      "source": [
        "categorical_var=[column for column in df.columns if (df[column].dtype=='object')]\n",
        "numerical_var=df.columns.drop(categorical_var)"
      ],
      "metadata": {
        "execution": {
          "iopub.status.busy": "2022-02-25T06:36:06.559385Z",
          "iopub.status.idle": "2022-02-25T06:36:06.560202Z",
          "shell.execute_reply.started": "2022-02-25T06:36:06.559874Z",
          "shell.execute_reply": "2022-02-25T06:36:06.55991Z"
        },
        "trusted": true,
        "id": "v8dIr8QbaMnH"
      },
      "execution_count": 46,
      "outputs": []
    },
    {
      "cell_type": "code",
      "source": [
        "df[categorical_var].head()"
      ],
      "metadata": {
        "execution": {
          "iopub.status.busy": "2022-02-25T06:36:06.578862Z",
          "iopub.execute_input": "2022-02-25T06:36:06.579416Z",
          "iopub.status.idle": "2022-02-25T06:36:06.596182Z",
          "shell.execute_reply.started": "2022-02-25T06:36:06.57938Z",
          "shell.execute_reply": "2022-02-25T06:36:06.594743Z"
        },
        "trusted": true,
        "colab": {
          "base_uri": "https://localhost:8080/",
          "height": 300
        },
        "id": "qqsMdZg2aMnI",
        "outputId": "d5044fcb-a585-430a-ed12-6aaa09dcec68"
      },
      "execution_count": 47,
      "outputs": [
        {
          "output_type": "execute_result",
          "data": {
            "text/plain": [
              "  feature_0 feature_1 feature_2 feature_3 feature_4 feature_16 feature_17  \\\n",
              "0        C0        C0        C1        C5       C11         C0        C60   \n",
              "1        C0        C0        C3        C5        C1         C2        C50   \n",
              "2        C0        C0        C3        C5        C2         C1        C76   \n",
              "3        C0        C0        C1        C5        C1         C0        C58   \n",
              "4        C0        C0        C3        C3       C11         C2        C48   \n",
              "\n",
              "  feature_18 feature_19 feature_20  ... feature_288 feature_289 feature_290  \\\n",
              "0     C17795       C413      C3620  ...        C130         C46         C22   \n",
              "1     C14050       C413      C2819  ...        C105         C36         C18   \n",
              "2     C23471       C413      C4794  ...        C105         C36         C18   \n",
              "3     C16929       C413      C3344  ...         C83         C28         C13   \n",
              "4     C13941       C413      C2753  ...         C93         C24         C11   \n",
              "\n",
              "  feature_291 feature_292 feature_293 feature_336 feature_337 feature_338  \\\n",
              "0         C10          C7          C6          C0          C0          C0   \n",
              "1          C6          C3          C2          C0          C0          C0   \n",
              "2          C6          C3          C2          C0          C0          C0   \n",
              "3          C2          C1          C0          C0          C0          C0   \n",
              "4          C2          C1          C0          C0          C0          C0   \n",
              "\n",
              "  feature_371  \n",
              "0          C0  \n",
              "1          C0  \n",
              "2          C0  \n",
              "3          C0  \n",
              "4          C1  \n",
              "\n",
              "[5 rows x 76 columns]"
            ],
            "text/html": [
              "\n",
              "  <div id=\"df-4b26aabf-7493-4701-b2eb-7ccda7da4200\">\n",
              "    <div class=\"colab-df-container\">\n",
              "      <div>\n",
              "<style scoped>\n",
              "    .dataframe tbody tr th:only-of-type {\n",
              "        vertical-align: middle;\n",
              "    }\n",
              "\n",
              "    .dataframe tbody tr th {\n",
              "        vertical-align: top;\n",
              "    }\n",
              "\n",
              "    .dataframe thead th {\n",
              "        text-align: right;\n",
              "    }\n",
              "</style>\n",
              "<table border=\"1\" class=\"dataframe\">\n",
              "  <thead>\n",
              "    <tr style=\"text-align: right;\">\n",
              "      <th></th>\n",
              "      <th>feature_0</th>\n",
              "      <th>feature_1</th>\n",
              "      <th>feature_2</th>\n",
              "      <th>feature_3</th>\n",
              "      <th>feature_4</th>\n",
              "      <th>feature_16</th>\n",
              "      <th>feature_17</th>\n",
              "      <th>feature_18</th>\n",
              "      <th>feature_19</th>\n",
              "      <th>feature_20</th>\n",
              "      <th>...</th>\n",
              "      <th>feature_288</th>\n",
              "      <th>feature_289</th>\n",
              "      <th>feature_290</th>\n",
              "      <th>feature_291</th>\n",
              "      <th>feature_292</th>\n",
              "      <th>feature_293</th>\n",
              "      <th>feature_336</th>\n",
              "      <th>feature_337</th>\n",
              "      <th>feature_338</th>\n",
              "      <th>feature_371</th>\n",
              "    </tr>\n",
              "  </thead>\n",
              "  <tbody>\n",
              "    <tr>\n",
              "      <th>0</th>\n",
              "      <td>C0</td>\n",
              "      <td>C0</td>\n",
              "      <td>C1</td>\n",
              "      <td>C5</td>\n",
              "      <td>C11</td>\n",
              "      <td>C0</td>\n",
              "      <td>C60</td>\n",
              "      <td>C17795</td>\n",
              "      <td>C413</td>\n",
              "      <td>C3620</td>\n",
              "      <td>...</td>\n",
              "      <td>C130</td>\n",
              "      <td>C46</td>\n",
              "      <td>C22</td>\n",
              "      <td>C10</td>\n",
              "      <td>C7</td>\n",
              "      <td>C6</td>\n",
              "      <td>C0</td>\n",
              "      <td>C0</td>\n",
              "      <td>C0</td>\n",
              "      <td>C0</td>\n",
              "    </tr>\n",
              "    <tr>\n",
              "      <th>1</th>\n",
              "      <td>C0</td>\n",
              "      <td>C0</td>\n",
              "      <td>C3</td>\n",
              "      <td>C5</td>\n",
              "      <td>C1</td>\n",
              "      <td>C2</td>\n",
              "      <td>C50</td>\n",
              "      <td>C14050</td>\n",
              "      <td>C413</td>\n",
              "      <td>C2819</td>\n",
              "      <td>...</td>\n",
              "      <td>C105</td>\n",
              "      <td>C36</td>\n",
              "      <td>C18</td>\n",
              "      <td>C6</td>\n",
              "      <td>C3</td>\n",
              "      <td>C2</td>\n",
              "      <td>C0</td>\n",
              "      <td>C0</td>\n",
              "      <td>C0</td>\n",
              "      <td>C0</td>\n",
              "    </tr>\n",
              "    <tr>\n",
              "      <th>2</th>\n",
              "      <td>C0</td>\n",
              "      <td>C0</td>\n",
              "      <td>C3</td>\n",
              "      <td>C5</td>\n",
              "      <td>C2</td>\n",
              "      <td>C1</td>\n",
              "      <td>C76</td>\n",
              "      <td>C23471</td>\n",
              "      <td>C413</td>\n",
              "      <td>C4794</td>\n",
              "      <td>...</td>\n",
              "      <td>C105</td>\n",
              "      <td>C36</td>\n",
              "      <td>C18</td>\n",
              "      <td>C6</td>\n",
              "      <td>C3</td>\n",
              "      <td>C2</td>\n",
              "      <td>C0</td>\n",
              "      <td>C0</td>\n",
              "      <td>C0</td>\n",
              "      <td>C0</td>\n",
              "    </tr>\n",
              "    <tr>\n",
              "      <th>3</th>\n",
              "      <td>C0</td>\n",
              "      <td>C0</td>\n",
              "      <td>C1</td>\n",
              "      <td>C5</td>\n",
              "      <td>C1</td>\n",
              "      <td>C0</td>\n",
              "      <td>C58</td>\n",
              "      <td>C16929</td>\n",
              "      <td>C413</td>\n",
              "      <td>C3344</td>\n",
              "      <td>...</td>\n",
              "      <td>C83</td>\n",
              "      <td>C28</td>\n",
              "      <td>C13</td>\n",
              "      <td>C2</td>\n",
              "      <td>C1</td>\n",
              "      <td>C0</td>\n",
              "      <td>C0</td>\n",
              "      <td>C0</td>\n",
              "      <td>C0</td>\n",
              "      <td>C0</td>\n",
              "    </tr>\n",
              "    <tr>\n",
              "      <th>4</th>\n",
              "      <td>C0</td>\n",
              "      <td>C0</td>\n",
              "      <td>C3</td>\n",
              "      <td>C3</td>\n",
              "      <td>C11</td>\n",
              "      <td>C2</td>\n",
              "      <td>C48</td>\n",
              "      <td>C13941</td>\n",
              "      <td>C413</td>\n",
              "      <td>C2753</td>\n",
              "      <td>...</td>\n",
              "      <td>C93</td>\n",
              "      <td>C24</td>\n",
              "      <td>C11</td>\n",
              "      <td>C2</td>\n",
              "      <td>C1</td>\n",
              "      <td>C0</td>\n",
              "      <td>C0</td>\n",
              "      <td>C0</td>\n",
              "      <td>C0</td>\n",
              "      <td>C1</td>\n",
              "    </tr>\n",
              "  </tbody>\n",
              "</table>\n",
              "<p>5 rows × 76 columns</p>\n",
              "</div>\n",
              "      <button class=\"colab-df-convert\" onclick=\"convertToInteractive('df-4b26aabf-7493-4701-b2eb-7ccda7da4200')\"\n",
              "              title=\"Convert this dataframe to an interactive table.\"\n",
              "              style=\"display:none;\">\n",
              "        \n",
              "  <svg xmlns=\"http://www.w3.org/2000/svg\" height=\"24px\"viewBox=\"0 0 24 24\"\n",
              "       width=\"24px\">\n",
              "    <path d=\"M0 0h24v24H0V0z\" fill=\"none\"/>\n",
              "    <path d=\"M18.56 5.44l.94 2.06.94-2.06 2.06-.94-2.06-.94-.94-2.06-.94 2.06-2.06.94zm-11 1L8.5 8.5l.94-2.06 2.06-.94-2.06-.94L8.5 2.5l-.94 2.06-2.06.94zm10 10l.94 2.06.94-2.06 2.06-.94-2.06-.94-.94-2.06-.94 2.06-2.06.94z\"/><path d=\"M17.41 7.96l-1.37-1.37c-.4-.4-.92-.59-1.43-.59-.52 0-1.04.2-1.43.59L10.3 9.45l-7.72 7.72c-.78.78-.78 2.05 0 2.83L4 21.41c.39.39.9.59 1.41.59.51 0 1.02-.2 1.41-.59l7.78-7.78 2.81-2.81c.8-.78.8-2.07 0-2.86zM5.41 20L4 18.59l7.72-7.72 1.47 1.35L5.41 20z\"/>\n",
              "  </svg>\n",
              "      </button>\n",
              "      \n",
              "  <style>\n",
              "    .colab-df-container {\n",
              "      display:flex;\n",
              "      flex-wrap:wrap;\n",
              "      gap: 12px;\n",
              "    }\n",
              "\n",
              "    .colab-df-convert {\n",
              "      background-color: #E8F0FE;\n",
              "      border: none;\n",
              "      border-radius: 50%;\n",
              "      cursor: pointer;\n",
              "      display: none;\n",
              "      fill: #1967D2;\n",
              "      height: 32px;\n",
              "      padding: 0 0 0 0;\n",
              "      width: 32px;\n",
              "    }\n",
              "\n",
              "    .colab-df-convert:hover {\n",
              "      background-color: #E2EBFA;\n",
              "      box-shadow: 0px 1px 2px rgba(60, 64, 67, 0.3), 0px 1px 3px 1px rgba(60, 64, 67, 0.15);\n",
              "      fill: #174EA6;\n",
              "    }\n",
              "\n",
              "    [theme=dark] .colab-df-convert {\n",
              "      background-color: #3B4455;\n",
              "      fill: #D2E3FC;\n",
              "    }\n",
              "\n",
              "    [theme=dark] .colab-df-convert:hover {\n",
              "      background-color: #434B5C;\n",
              "      box-shadow: 0px 1px 3px 1px rgba(0, 0, 0, 0.15);\n",
              "      filter: drop-shadow(0px 1px 2px rgba(0, 0, 0, 0.3));\n",
              "      fill: #FFFFFF;\n",
              "    }\n",
              "  </style>\n",
              "\n",
              "      <script>\n",
              "        const buttonEl =\n",
              "          document.querySelector('#df-4b26aabf-7493-4701-b2eb-7ccda7da4200 button.colab-df-convert');\n",
              "        buttonEl.style.display =\n",
              "          google.colab.kernel.accessAllowed ? 'block' : 'none';\n",
              "\n",
              "        async function convertToInteractive(key) {\n",
              "          const element = document.querySelector('#df-4b26aabf-7493-4701-b2eb-7ccda7da4200');\n",
              "          const dataTable =\n",
              "            await google.colab.kernel.invokeFunction('convertToInteractive',\n",
              "                                                     [key], {});\n",
              "          if (!dataTable) return;\n",
              "\n",
              "          const docLinkHtml = 'Like what you see? Visit the ' +\n",
              "            '<a target=\"_blank\" href=https://colab.research.google.com/notebooks/data_table.ipynb>data table notebook</a>'\n",
              "            + ' to learn more about interactive tables.';\n",
              "          element.innerHTML = '';\n",
              "          dataTable['output_type'] = 'display_data';\n",
              "          await google.colab.output.renderOutput(dataTable, element);\n",
              "          const docLink = document.createElement('div');\n",
              "          docLink.innerHTML = docLinkHtml;\n",
              "          element.appendChild(docLink);\n",
              "        }\n",
              "      </script>\n",
              "    </div>\n",
              "  </div>\n",
              "  "
            ]
          },
          "metadata": {},
          "execution_count": 47
        }
      ]
    },
    {
      "cell_type": "code",
      "source": [
        "# lets manually examine some categorical variables"
      ],
      "metadata": {
        "execution": {
          "iopub.status.busy": "2022-02-25T06:36:06.597126Z",
          "iopub.status.idle": "2022-02-25T06:36:06.597716Z",
          "shell.execute_reply.started": "2022-02-25T06:36:06.597336Z",
          "shell.execute_reply": "2022-02-25T06:36:06.597368Z"
        },
        "trusted": true,
        "id": "FMOevVh7aMnJ"
      },
      "execution_count": 48,
      "outputs": []
    },
    {
      "cell_type": "code",
      "source": [
        "for column in categorical_var:\n",
        "  print(column,' = ',len(df[column].unique()),'\\t')"
      ],
      "metadata": {
        "execution": {
          "iopub.status.busy": "2022-02-25T06:36:06.599214Z",
          "iopub.status.idle": "2022-02-25T06:36:06.599704Z",
          "shell.execute_reply.started": "2022-02-25T06:36:06.599484Z",
          "shell.execute_reply": "2022-02-25T06:36:06.599515Z"
        },
        "trusted": true,
        "colab": {
          "base_uri": "https://localhost:8080/"
        },
        "id": "Upbe5G-YaMnK",
        "outputId": "901b6738-9815-4c56-9ed1-1cd56d6a444f"
      },
      "execution_count": 49,
      "outputs": [
        {
          "output_type": "stream",
          "name": "stdout",
          "text": [
            "feature_0  =  2 \t\n",
            "feature_1  =  2 \t\n",
            "feature_2  =  6 \t\n",
            "feature_3  =  6 \t\n",
            "feature_4  =  12 \t\n",
            "feature_16  =  4 \t\n",
            "feature_17  =  103 \t\n",
            "feature_18  =  15858 \t\n",
            "feature_19  =  260 \t\n",
            "feature_20  =  5841 \t\n",
            "feature_21  =  2327 \t\n",
            "feature_22  =  2339 \t\n",
            "feature_23  =  2 \t\n",
            "feature_24  =  25 \t\n",
            "feature_27  =  2 \t\n",
            "feature_28  =  2 \t\n",
            "feature_29  =  2 \t\n",
            "feature_30  =  2 \t\n",
            "feature_31  =  2 \t\n",
            "feature_32  =  2 \t\n",
            "feature_33  =  2 \t\n",
            "feature_34  =  2 \t\n",
            "feature_41  =  2 \t\n",
            "feature_42  =  2 \t\n",
            "feature_54  =  260 \t\n",
            "feature_58  =  5 \t\n",
            "feature_97  =  29 \t\n",
            "feature_133  =  7126 \t\n",
            "feature_134  =  3 \t\n",
            "feature_135  =  13 \t\n",
            "feature_152  =  2 \t\n",
            "feature_163  =  4 \t\n",
            "feature_164  =  4 \t\n",
            "feature_165  =  12 \t\n",
            "feature_185  =  255 \t\n",
            "feature_186  =  13 \t\n",
            "feature_189  =  21 \t\n",
            "feature_205  =  10 \t\n",
            "feature_239  =  2 \t\n",
            "feature_240  =  3 \t\n",
            "feature_241  =  3 \t\n",
            "feature_242  =  2 \t\n",
            "feature_243  =  15 \t\n",
            "feature_244  =  4 \t\n",
            "feature_246  =  147 \t\n",
            "feature_247  =  86 \t\n",
            "feature_250  =  2 \t\n",
            "feature_251  =  6 \t\n",
            "feature_270  =  2 \t\n",
            "feature_271  =  82 \t\n",
            "feature_272  =  75 \t\n",
            "feature_273  =  30 \t\n",
            "feature_274  =  17 \t\n",
            "feature_275  =  6 \t\n",
            "feature_276  =  3 \t\n",
            "feature_277  =  2 \t\n",
            "feature_278  =  2 \t\n",
            "feature_279  =  136 \t\n",
            "feature_280  =  111 \t\n",
            "feature_281  =  37 \t\n",
            "feature_282  =  21 \t\n",
            "feature_283  =  9 \t\n",
            "feature_284  =  6 \t\n",
            "feature_285  =  5 \t\n",
            "feature_286  =  3 \t\n",
            "feature_287  =  135 \t\n",
            "feature_288  =  116 \t\n",
            "feature_289  =  40 \t\n",
            "feature_290  =  22 \t\n",
            "feature_291  =  10 \t\n",
            "feature_292  =  7 \t\n",
            "feature_293  =  6 \t\n",
            "feature_336  =  2 \t\n",
            "feature_337  =  2 \t\n",
            "feature_338  =  2 \t\n",
            "feature_371  =  2 \t\n"
          ]
        }
      ]
    },
    {
      "cell_type": "markdown",
      "source": [
        "##dropping categorical columns having too many classes"
      ],
      "metadata": {
        "id": "xBC6A14gaMnL"
      }
    },
    {
      "cell_type": "code",
      "source": [
        "# removing the categorical columns with more than 80 classes"
      ],
      "metadata": {
        "execution": {
          "iopub.status.busy": "2022-02-25T06:36:06.623693Z",
          "iopub.execute_input": "2022-02-25T06:36:06.624271Z",
          "iopub.status.idle": "2022-02-25T06:36:06.628507Z",
          "shell.execute_reply.started": "2022-02-25T06:36:06.624224Z",
          "shell.execute_reply": "2022-02-25T06:36:06.627573Z"
        },
        "trusted": true,
        "id": "uTcTI-hQaMnL"
      },
      "execution_count": 50,
      "outputs": []
    },
    {
      "cell_type": "code",
      "source": [
        "def remove_more_than_80(df2):\n",
        "    removed_columns_80=[]\n",
        "    for column in categorical_var:\n",
        "        if(len(df[column].unique())>70):\n",
        "            df2.drop(column, axis=1, inplace=True)\n",
        "#             categorical_var.remove(column)\n",
        "            removed_columns_80.append(column)\n",
        "    print('removed columns are:\\n',removed_columns_80)\n",
        "    return removed_columns_80"
      ],
      "metadata": {
        "execution": {
          "iopub.status.busy": "2022-02-25T06:36:06.63Z",
          "iopub.execute_input": "2022-02-25T06:36:06.631226Z",
          "iopub.status.idle": "2022-02-25T06:36:06.642952Z",
          "shell.execute_reply.started": "2022-02-25T06:36:06.631184Z",
          "shell.execute_reply": "2022-02-25T06:36:06.642141Z"
        },
        "trusted": true,
        "id": "Wu3kcnZKaMnM"
      },
      "execution_count": 51,
      "outputs": []
    },
    {
      "cell_type": "code",
      "source": [
        "removed_columns_80=remove_more_than_80(df)"
      ],
      "metadata": {
        "execution": {
          "iopub.status.busy": "2022-02-25T06:36:06.644492Z",
          "iopub.execute_input": "2022-02-25T06:36:06.644866Z",
          "iopub.status.idle": "2022-02-25T06:36:06.67024Z",
          "shell.execute_reply.started": "2022-02-25T06:36:06.644836Z",
          "shell.execute_reply": "2022-02-25T06:36:06.668991Z"
        },
        "trusted": true,
        "colab": {
          "base_uri": "https://localhost:8080/"
        },
        "id": "r3UpLfUgaMnN",
        "outputId": "df870dd6-851b-45a3-f4e4-c9cc76069f57"
      },
      "execution_count": 52,
      "outputs": [
        {
          "output_type": "stream",
          "name": "stdout",
          "text": [
            "removed columns are:\n",
            " ['feature_17', 'feature_18', 'feature_19', 'feature_20', 'feature_21', 'feature_22', 'feature_54', 'feature_133', 'feature_185', 'feature_246', 'feature_247', 'feature_271', 'feature_272', 'feature_279', 'feature_280', 'feature_287', 'feature_288']\n"
          ]
        }
      ]
    },
    {
      "cell_type": "code",
      "source": [
        "test_df.drop(removed_columns_80,axis=1,inplace=True)"
      ],
      "metadata": {
        "execution": {
          "iopub.status.busy": "2022-02-25T06:36:06.729493Z",
          "iopub.execute_input": "2022-02-25T06:36:06.730124Z",
          "iopub.status.idle": "2022-02-25T06:36:06.747637Z",
          "shell.execute_reply.started": "2022-02-25T06:36:06.730088Z",
          "shell.execute_reply": "2022-02-25T06:36:06.746159Z"
        },
        "trusted": true,
        "id": "_D1OjNO4aMnN"
      },
      "execution_count": 53,
      "outputs": []
    },
    {
      "cell_type": "code",
      "source": [
        "print(\"categorical_var length:\", categorical_var)"
      ],
      "metadata": {
        "execution": {
          "iopub.status.busy": "2022-02-25T06:36:06.748671Z",
          "iopub.status.idle": "2022-02-25T06:36:06.749456Z",
          "shell.execute_reply.started": "2022-02-25T06:36:06.749199Z",
          "shell.execute_reply": "2022-02-25T06:36:06.749222Z"
        },
        "trusted": true,
        "colab": {
          "base_uri": "https://localhost:8080/"
        },
        "id": "FSJMUHYeaMnO",
        "outputId": "9b0a36d0-ab5d-4285-c88c-d170ec9bb1d1"
      },
      "execution_count": 54,
      "outputs": [
        {
          "output_type": "stream",
          "name": "stdout",
          "text": [
            "categorical_var length: ['feature_0', 'feature_1', 'feature_2', 'feature_3', 'feature_4', 'feature_16', 'feature_17', 'feature_18', 'feature_19', 'feature_20', 'feature_21', 'feature_22', 'feature_23', 'feature_24', 'feature_27', 'feature_28', 'feature_29', 'feature_30', 'feature_31', 'feature_32', 'feature_33', 'feature_34', 'feature_41', 'feature_42', 'feature_54', 'feature_58', 'feature_97', 'feature_133', 'feature_134', 'feature_135', 'feature_152', 'feature_163', 'feature_164', 'feature_165', 'feature_185', 'feature_186', 'feature_189', 'feature_205', 'feature_239', 'feature_240', 'feature_241', 'feature_242', 'feature_243', 'feature_244', 'feature_246', 'feature_247', 'feature_250', 'feature_251', 'feature_270', 'feature_271', 'feature_272', 'feature_273', 'feature_274', 'feature_275', 'feature_276', 'feature_277', 'feature_278', 'feature_279', 'feature_280', 'feature_281', 'feature_282', 'feature_283', 'feature_284', 'feature_285', 'feature_286', 'feature_287', 'feature_288', 'feature_289', 'feature_290', 'feature_291', 'feature_292', 'feature_293', 'feature_336', 'feature_337', 'feature_338', 'feature_371']\n"
          ]
        }
      ]
    },
    {
      "cell_type": "code",
      "source": [
        "new_categorical_var = [feature for feature in categorical_var if feature not in removed_columns_80]"
      ],
      "metadata": {
        "id": "RuZ9ks43VuIe"
      },
      "execution_count": 55,
      "outputs": []
    },
    {
      "cell_type": "code",
      "source": [
        "df.shape"
      ],
      "metadata": {
        "execution": {
          "iopub.status.busy": "2022-02-25T06:36:06.801839Z",
          "iopub.status.idle": "2022-02-25T06:36:06.802201Z",
          "shell.execute_reply.started": "2022-02-25T06:36:06.801999Z",
          "shell.execute_reply": "2022-02-25T06:36:06.802029Z"
        },
        "trusted": true,
        "colab": {
          "base_uri": "https://localhost:8080/"
        },
        "id": "xDuQKjdSaMnQ",
        "outputId": "1bc268cf-3ed3-4493-d871-f50ee6ca1e2c"
      },
      "execution_count": 57,
      "outputs": [
        {
          "output_type": "execute_result",
          "data": {
            "text/plain": [
              "(70000, 291)"
            ]
          },
          "metadata": {},
          "execution_count": 57
        }
      ]
    },
    {
      "cell_type": "code",
      "source": [
        "test_df.shape"
      ],
      "metadata": {
        "colab": {
          "base_uri": "https://localhost:8080/"
        },
        "id": "HpE5t_Z-UbXD",
        "outputId": "bed47ad0-c6ba-4b9a-dd2b-296113f3f658"
      },
      "execution_count": 58,
      "outputs": [
        {
          "output_type": "execute_result",
          "data": {
            "text/plain": [
              "(30000, 290)"
            ]
          },
          "metadata": {},
          "execution_count": 58
        }
      ]
    },
    {
      "cell_type": "code",
      "source": [
        "df.head()"
      ],
      "metadata": {
        "scrolled": true,
        "execution": {
          "iopub.status.busy": "2022-02-25T06:36:06.825831Z",
          "iopub.execute_input": "2022-02-25T06:36:06.826129Z",
          "iopub.status.idle": "2022-02-25T06:36:06.842101Z",
          "shell.execute_reply.started": "2022-02-25T06:36:06.826097Z",
          "shell.execute_reply": "2022-02-25T06:36:06.84118Z"
        },
        "trusted": true,
        "colab": {
          "base_uri": "https://localhost:8080/",
          "height": 300
        },
        "id": "6hR-0lEMaMnR",
        "outputId": "f5fa9e21-fc0a-406d-fe08-95bc82ab8ffd"
      },
      "execution_count": 59,
      "outputs": [
        {
          "output_type": "execute_result",
          "data": {
            "text/plain": [
              "   target feature_0 feature_1 feature_2 feature_3 feature_4  feature_14  \\\n",
              "0       0        C0        C0        C1        C5       C11         0.0   \n",
              "1       0        C0        C0        C3        C5        C1         0.0   \n",
              "2       0        C0        C0        C3        C5        C2         0.0   \n",
              "3       0        C0        C0        C1        C5        C1         0.0   \n",
              "4       1        C0        C0        C3        C3       C11         0.0   \n",
              "\n",
              "   feature_15 feature_16 feature_23  ... feature_191_month  feature_192_day  \\\n",
              "0       0.000         C0         C0  ...              11.0             10.0   \n",
              "1       0.000         C2         C0  ...               3.0             25.0   \n",
              "2       0.000         C1         C0  ...               1.0             27.0   \n",
              "3       0.000         C0         C0  ...               5.0              4.0   \n",
              "4       0.258         C2         C0  ...               7.0              9.0   \n",
              "\n",
              "  feature_192_month feature_192_year feature_199_day feature_199_month  \\\n",
              "0              11.0           2017.0              10                11   \n",
              "1               3.0           2015.0               4                 2   \n",
              "2               1.0           2015.0              24                 3   \n",
              "3               1.0           2014.0               4                 1   \n",
              "4              10.0           2013.0               9                10   \n",
              "\n",
              "  feature_199_year feature_201_day feature_201_month feature_201_year  \n",
              "0             2017            10.0              11.0           2017.0  \n",
              "1             2017            25.0               3.0           2015.0  \n",
              "2             2016            27.0               1.0           2015.0  \n",
              "3             2014             4.0               1.0           2014.0  \n",
              "4             2013             9.0              10.0           2013.0  \n",
              "\n",
              "[5 rows x 291 columns]"
            ],
            "text/html": [
              "\n",
              "  <div id=\"df-68258d66-0c35-4c7e-a13e-259045043fd6\">\n",
              "    <div class=\"colab-df-container\">\n",
              "      <div>\n",
              "<style scoped>\n",
              "    .dataframe tbody tr th:only-of-type {\n",
              "        vertical-align: middle;\n",
              "    }\n",
              "\n",
              "    .dataframe tbody tr th {\n",
              "        vertical-align: top;\n",
              "    }\n",
              "\n",
              "    .dataframe thead th {\n",
              "        text-align: right;\n",
              "    }\n",
              "</style>\n",
              "<table border=\"1\" class=\"dataframe\">\n",
              "  <thead>\n",
              "    <tr style=\"text-align: right;\">\n",
              "      <th></th>\n",
              "      <th>target</th>\n",
              "      <th>feature_0</th>\n",
              "      <th>feature_1</th>\n",
              "      <th>feature_2</th>\n",
              "      <th>feature_3</th>\n",
              "      <th>feature_4</th>\n",
              "      <th>feature_14</th>\n",
              "      <th>feature_15</th>\n",
              "      <th>feature_16</th>\n",
              "      <th>feature_23</th>\n",
              "      <th>...</th>\n",
              "      <th>feature_191_month</th>\n",
              "      <th>feature_192_day</th>\n",
              "      <th>feature_192_month</th>\n",
              "      <th>feature_192_year</th>\n",
              "      <th>feature_199_day</th>\n",
              "      <th>feature_199_month</th>\n",
              "      <th>feature_199_year</th>\n",
              "      <th>feature_201_day</th>\n",
              "      <th>feature_201_month</th>\n",
              "      <th>feature_201_year</th>\n",
              "    </tr>\n",
              "  </thead>\n",
              "  <tbody>\n",
              "    <tr>\n",
              "      <th>0</th>\n",
              "      <td>0</td>\n",
              "      <td>C0</td>\n",
              "      <td>C0</td>\n",
              "      <td>C1</td>\n",
              "      <td>C5</td>\n",
              "      <td>C11</td>\n",
              "      <td>0.0</td>\n",
              "      <td>0.000</td>\n",
              "      <td>C0</td>\n",
              "      <td>C0</td>\n",
              "      <td>...</td>\n",
              "      <td>11.0</td>\n",
              "      <td>10.0</td>\n",
              "      <td>11.0</td>\n",
              "      <td>2017.0</td>\n",
              "      <td>10</td>\n",
              "      <td>11</td>\n",
              "      <td>2017</td>\n",
              "      <td>10.0</td>\n",
              "      <td>11.0</td>\n",
              "      <td>2017.0</td>\n",
              "    </tr>\n",
              "    <tr>\n",
              "      <th>1</th>\n",
              "      <td>0</td>\n",
              "      <td>C0</td>\n",
              "      <td>C0</td>\n",
              "      <td>C3</td>\n",
              "      <td>C5</td>\n",
              "      <td>C1</td>\n",
              "      <td>0.0</td>\n",
              "      <td>0.000</td>\n",
              "      <td>C2</td>\n",
              "      <td>C0</td>\n",
              "      <td>...</td>\n",
              "      <td>3.0</td>\n",
              "      <td>25.0</td>\n",
              "      <td>3.0</td>\n",
              "      <td>2015.0</td>\n",
              "      <td>4</td>\n",
              "      <td>2</td>\n",
              "      <td>2017</td>\n",
              "      <td>25.0</td>\n",
              "      <td>3.0</td>\n",
              "      <td>2015.0</td>\n",
              "    </tr>\n",
              "    <tr>\n",
              "      <th>2</th>\n",
              "      <td>0</td>\n",
              "      <td>C0</td>\n",
              "      <td>C0</td>\n",
              "      <td>C3</td>\n",
              "      <td>C5</td>\n",
              "      <td>C2</td>\n",
              "      <td>0.0</td>\n",
              "      <td>0.000</td>\n",
              "      <td>C1</td>\n",
              "      <td>C0</td>\n",
              "      <td>...</td>\n",
              "      <td>1.0</td>\n",
              "      <td>27.0</td>\n",
              "      <td>1.0</td>\n",
              "      <td>2015.0</td>\n",
              "      <td>24</td>\n",
              "      <td>3</td>\n",
              "      <td>2016</td>\n",
              "      <td>27.0</td>\n",
              "      <td>1.0</td>\n",
              "      <td>2015.0</td>\n",
              "    </tr>\n",
              "    <tr>\n",
              "      <th>3</th>\n",
              "      <td>0</td>\n",
              "      <td>C0</td>\n",
              "      <td>C0</td>\n",
              "      <td>C1</td>\n",
              "      <td>C5</td>\n",
              "      <td>C1</td>\n",
              "      <td>0.0</td>\n",
              "      <td>0.000</td>\n",
              "      <td>C0</td>\n",
              "      <td>C0</td>\n",
              "      <td>...</td>\n",
              "      <td>5.0</td>\n",
              "      <td>4.0</td>\n",
              "      <td>1.0</td>\n",
              "      <td>2014.0</td>\n",
              "      <td>4</td>\n",
              "      <td>1</td>\n",
              "      <td>2014</td>\n",
              "      <td>4.0</td>\n",
              "      <td>1.0</td>\n",
              "      <td>2014.0</td>\n",
              "    </tr>\n",
              "    <tr>\n",
              "      <th>4</th>\n",
              "      <td>1</td>\n",
              "      <td>C0</td>\n",
              "      <td>C0</td>\n",
              "      <td>C3</td>\n",
              "      <td>C3</td>\n",
              "      <td>C11</td>\n",
              "      <td>0.0</td>\n",
              "      <td>0.258</td>\n",
              "      <td>C2</td>\n",
              "      <td>C0</td>\n",
              "      <td>...</td>\n",
              "      <td>7.0</td>\n",
              "      <td>9.0</td>\n",
              "      <td>10.0</td>\n",
              "      <td>2013.0</td>\n",
              "      <td>9</td>\n",
              "      <td>10</td>\n",
              "      <td>2013</td>\n",
              "      <td>9.0</td>\n",
              "      <td>10.0</td>\n",
              "      <td>2013.0</td>\n",
              "    </tr>\n",
              "  </tbody>\n",
              "</table>\n",
              "<p>5 rows × 291 columns</p>\n",
              "</div>\n",
              "      <button class=\"colab-df-convert\" onclick=\"convertToInteractive('df-68258d66-0c35-4c7e-a13e-259045043fd6')\"\n",
              "              title=\"Convert this dataframe to an interactive table.\"\n",
              "              style=\"display:none;\">\n",
              "        \n",
              "  <svg xmlns=\"http://www.w3.org/2000/svg\" height=\"24px\"viewBox=\"0 0 24 24\"\n",
              "       width=\"24px\">\n",
              "    <path d=\"M0 0h24v24H0V0z\" fill=\"none\"/>\n",
              "    <path d=\"M18.56 5.44l.94 2.06.94-2.06 2.06-.94-2.06-.94-.94-2.06-.94 2.06-2.06.94zm-11 1L8.5 8.5l.94-2.06 2.06-.94-2.06-.94L8.5 2.5l-.94 2.06-2.06.94zm10 10l.94 2.06.94-2.06 2.06-.94-2.06-.94-.94-2.06-.94 2.06-2.06.94z\"/><path d=\"M17.41 7.96l-1.37-1.37c-.4-.4-.92-.59-1.43-.59-.52 0-1.04.2-1.43.59L10.3 9.45l-7.72 7.72c-.78.78-.78 2.05 0 2.83L4 21.41c.39.39.9.59 1.41.59.51 0 1.02-.2 1.41-.59l7.78-7.78 2.81-2.81c.8-.78.8-2.07 0-2.86zM5.41 20L4 18.59l7.72-7.72 1.47 1.35L5.41 20z\"/>\n",
              "  </svg>\n",
              "      </button>\n",
              "      \n",
              "  <style>\n",
              "    .colab-df-container {\n",
              "      display:flex;\n",
              "      flex-wrap:wrap;\n",
              "      gap: 12px;\n",
              "    }\n",
              "\n",
              "    .colab-df-convert {\n",
              "      background-color: #E8F0FE;\n",
              "      border: none;\n",
              "      border-radius: 50%;\n",
              "      cursor: pointer;\n",
              "      display: none;\n",
              "      fill: #1967D2;\n",
              "      height: 32px;\n",
              "      padding: 0 0 0 0;\n",
              "      width: 32px;\n",
              "    }\n",
              "\n",
              "    .colab-df-convert:hover {\n",
              "      background-color: #E2EBFA;\n",
              "      box-shadow: 0px 1px 2px rgba(60, 64, 67, 0.3), 0px 1px 3px 1px rgba(60, 64, 67, 0.15);\n",
              "      fill: #174EA6;\n",
              "    }\n",
              "\n",
              "    [theme=dark] .colab-df-convert {\n",
              "      background-color: #3B4455;\n",
              "      fill: #D2E3FC;\n",
              "    }\n",
              "\n",
              "    [theme=dark] .colab-df-convert:hover {\n",
              "      background-color: #434B5C;\n",
              "      box-shadow: 0px 1px 3px 1px rgba(0, 0, 0, 0.15);\n",
              "      filter: drop-shadow(0px 1px 2px rgba(0, 0, 0, 0.3));\n",
              "      fill: #FFFFFF;\n",
              "    }\n",
              "  </style>\n",
              "\n",
              "      <script>\n",
              "        const buttonEl =\n",
              "          document.querySelector('#df-68258d66-0c35-4c7e-a13e-259045043fd6 button.colab-df-convert');\n",
              "        buttonEl.style.display =\n",
              "          google.colab.kernel.accessAllowed ? 'block' : 'none';\n",
              "\n",
              "        async function convertToInteractive(key) {\n",
              "          const element = document.querySelector('#df-68258d66-0c35-4c7e-a13e-259045043fd6');\n",
              "          const dataTable =\n",
              "            await google.colab.kernel.invokeFunction('convertToInteractive',\n",
              "                                                     [key], {});\n",
              "          if (!dataTable) return;\n",
              "\n",
              "          const docLinkHtml = 'Like what you see? Visit the ' +\n",
              "            '<a target=\"_blank\" href=https://colab.research.google.com/notebooks/data_table.ipynb>data table notebook</a>'\n",
              "            + ' to learn more about interactive tables.';\n",
              "          element.innerHTML = '';\n",
              "          dataTable['output_type'] = 'display_data';\n",
              "          await google.colab.output.renderOutput(dataTable, element);\n",
              "          const docLink = document.createElement('div');\n",
              "          docLink.innerHTML = docLinkHtml;\n",
              "          element.appendChild(docLink);\n",
              "        }\n",
              "      </script>\n",
              "    </div>\n",
              "  </div>\n",
              "  "
            ]
          },
          "metadata": {},
          "execution_count": 59
        }
      ]
    },
    {
      "cell_type": "markdown",
      "source": [
        "#5.label encoding "
      ],
      "metadata": {
        "id": "KXJxoTMuaMnS"
      }
    },
    {
      "cell_type": "code",
      "source": [
        "def label_encoding(df1,df2):\n",
        "    le=LabelEncoder()\n",
        "    new=le.fit_transform(df1)\n",
        "    \n",
        "    df2.loc[~df2.isin(le.classes_)] = -1    \n",
        "    df2.loc[df2.isin(le.classes_)] = le.transform(df2[df2.isin(le.classes_)])\n",
        "   \n",
        "    # new_test=le.transform(df2)\n",
        "    return new,df2"
      ],
      "metadata": {
        "execution": {
          "iopub.status.busy": "2022-02-25T06:36:06.84301Z",
          "iopub.status.idle": "2022-02-25T06:36:06.843784Z",
          "shell.execute_reply.started": "2022-02-25T06:36:06.843583Z",
          "shell.execute_reply": "2022-02-25T06:36:06.843604Z"
        },
        "trusted": true,
        "id": "B_PCSrJ9aMnS"
      },
      "execution_count": 60,
      "outputs": []
    },
    {
      "cell_type": "code",
      "source": [
        "# le_models=[]\n",
        "for column in new_categorical_var:\n",
        "    new,new_test=label_encoding(df[column],test_df[column])\n",
        "    df[column]=new\n",
        "    test_df[column]=new_test"
      ],
      "metadata": {
        "execution": {
          "iopub.status.busy": "2022-02-25T06:36:06.871341Z",
          "iopub.execute_input": "2022-02-25T06:36:06.871756Z",
          "iopub.status.idle": "2022-02-25T06:36:06.89057Z",
          "shell.execute_reply.started": "2022-02-25T06:36:06.871724Z",
          "shell.execute_reply": "2022-02-25T06:36:06.889119Z"
        },
        "trusted": true,
        "id": "Shpy-b99aMnT"
      },
      "execution_count": 61,
      "outputs": []
    },
    {
      "cell_type": "code",
      "source": [
        "df.head()"
      ],
      "metadata": {
        "colab": {
          "base_uri": "https://localhost:8080/",
          "height": 300
        },
        "id": "zscuFNsDWUit",
        "outputId": "d92fb299-da8d-493e-f9cb-36024f502a9e"
      },
      "execution_count": 62,
      "outputs": [
        {
          "output_type": "execute_result",
          "data": {
            "text/plain": [
              "   target  feature_0  feature_1  feature_2  feature_3  feature_4  feature_14  \\\n",
              "0       0          0          0          1          5          3         0.0   \n",
              "1       0          0          0          3          5          1         0.0   \n",
              "2       0          0          0          3          5          4         0.0   \n",
              "3       0          0          0          1          5          1         0.0   \n",
              "4       1          0          0          3          3          3         0.0   \n",
              "\n",
              "   feature_15  feature_16  feature_23  ...  feature_191_month  \\\n",
              "0       0.000           0           0  ...               11.0   \n",
              "1       0.000           2           0  ...                3.0   \n",
              "2       0.000           1           0  ...                1.0   \n",
              "3       0.000           0           0  ...                5.0   \n",
              "4       0.258           2           0  ...                7.0   \n",
              "\n",
              "   feature_192_day  feature_192_month  feature_192_year  feature_199_day  \\\n",
              "0             10.0               11.0            2017.0               10   \n",
              "1             25.0                3.0            2015.0                4   \n",
              "2             27.0                1.0            2015.0               24   \n",
              "3              4.0                1.0            2014.0                4   \n",
              "4              9.0               10.0            2013.0                9   \n",
              "\n",
              "   feature_199_month  feature_199_year  feature_201_day  feature_201_month  \\\n",
              "0                 11              2017             10.0               11.0   \n",
              "1                  2              2017             25.0                3.0   \n",
              "2                  3              2016             27.0                1.0   \n",
              "3                  1              2014              4.0                1.0   \n",
              "4                 10              2013              9.0               10.0   \n",
              "\n",
              "   feature_201_year  \n",
              "0            2017.0  \n",
              "1            2015.0  \n",
              "2            2015.0  \n",
              "3            2014.0  \n",
              "4            2013.0  \n",
              "\n",
              "[5 rows x 291 columns]"
            ],
            "text/html": [
              "\n",
              "  <div id=\"df-1567428a-319e-4f6a-84d0-fe8b176a4350\">\n",
              "    <div class=\"colab-df-container\">\n",
              "      <div>\n",
              "<style scoped>\n",
              "    .dataframe tbody tr th:only-of-type {\n",
              "        vertical-align: middle;\n",
              "    }\n",
              "\n",
              "    .dataframe tbody tr th {\n",
              "        vertical-align: top;\n",
              "    }\n",
              "\n",
              "    .dataframe thead th {\n",
              "        text-align: right;\n",
              "    }\n",
              "</style>\n",
              "<table border=\"1\" class=\"dataframe\">\n",
              "  <thead>\n",
              "    <tr style=\"text-align: right;\">\n",
              "      <th></th>\n",
              "      <th>target</th>\n",
              "      <th>feature_0</th>\n",
              "      <th>feature_1</th>\n",
              "      <th>feature_2</th>\n",
              "      <th>feature_3</th>\n",
              "      <th>feature_4</th>\n",
              "      <th>feature_14</th>\n",
              "      <th>feature_15</th>\n",
              "      <th>feature_16</th>\n",
              "      <th>feature_23</th>\n",
              "      <th>...</th>\n",
              "      <th>feature_191_month</th>\n",
              "      <th>feature_192_day</th>\n",
              "      <th>feature_192_month</th>\n",
              "      <th>feature_192_year</th>\n",
              "      <th>feature_199_day</th>\n",
              "      <th>feature_199_month</th>\n",
              "      <th>feature_199_year</th>\n",
              "      <th>feature_201_day</th>\n",
              "      <th>feature_201_month</th>\n",
              "      <th>feature_201_year</th>\n",
              "    </tr>\n",
              "  </thead>\n",
              "  <tbody>\n",
              "    <tr>\n",
              "      <th>0</th>\n",
              "      <td>0</td>\n",
              "      <td>0</td>\n",
              "      <td>0</td>\n",
              "      <td>1</td>\n",
              "      <td>5</td>\n",
              "      <td>3</td>\n",
              "      <td>0.0</td>\n",
              "      <td>0.000</td>\n",
              "      <td>0</td>\n",
              "      <td>0</td>\n",
              "      <td>...</td>\n",
              "      <td>11.0</td>\n",
              "      <td>10.0</td>\n",
              "      <td>11.0</td>\n",
              "      <td>2017.0</td>\n",
              "      <td>10</td>\n",
              "      <td>11</td>\n",
              "      <td>2017</td>\n",
              "      <td>10.0</td>\n",
              "      <td>11.0</td>\n",
              "      <td>2017.0</td>\n",
              "    </tr>\n",
              "    <tr>\n",
              "      <th>1</th>\n",
              "      <td>0</td>\n",
              "      <td>0</td>\n",
              "      <td>0</td>\n",
              "      <td>3</td>\n",
              "      <td>5</td>\n",
              "      <td>1</td>\n",
              "      <td>0.0</td>\n",
              "      <td>0.000</td>\n",
              "      <td>2</td>\n",
              "      <td>0</td>\n",
              "      <td>...</td>\n",
              "      <td>3.0</td>\n",
              "      <td>25.0</td>\n",
              "      <td>3.0</td>\n",
              "      <td>2015.0</td>\n",
              "      <td>4</td>\n",
              "      <td>2</td>\n",
              "      <td>2017</td>\n",
              "      <td>25.0</td>\n",
              "      <td>3.0</td>\n",
              "      <td>2015.0</td>\n",
              "    </tr>\n",
              "    <tr>\n",
              "      <th>2</th>\n",
              "      <td>0</td>\n",
              "      <td>0</td>\n",
              "      <td>0</td>\n",
              "      <td>3</td>\n",
              "      <td>5</td>\n",
              "      <td>4</td>\n",
              "      <td>0.0</td>\n",
              "      <td>0.000</td>\n",
              "      <td>1</td>\n",
              "      <td>0</td>\n",
              "      <td>...</td>\n",
              "      <td>1.0</td>\n",
              "      <td>27.0</td>\n",
              "      <td>1.0</td>\n",
              "      <td>2015.0</td>\n",
              "      <td>24</td>\n",
              "      <td>3</td>\n",
              "      <td>2016</td>\n",
              "      <td>27.0</td>\n",
              "      <td>1.0</td>\n",
              "      <td>2015.0</td>\n",
              "    </tr>\n",
              "    <tr>\n",
              "      <th>3</th>\n",
              "      <td>0</td>\n",
              "      <td>0</td>\n",
              "      <td>0</td>\n",
              "      <td>1</td>\n",
              "      <td>5</td>\n",
              "      <td>1</td>\n",
              "      <td>0.0</td>\n",
              "      <td>0.000</td>\n",
              "      <td>0</td>\n",
              "      <td>0</td>\n",
              "      <td>...</td>\n",
              "      <td>5.0</td>\n",
              "      <td>4.0</td>\n",
              "      <td>1.0</td>\n",
              "      <td>2014.0</td>\n",
              "      <td>4</td>\n",
              "      <td>1</td>\n",
              "      <td>2014</td>\n",
              "      <td>4.0</td>\n",
              "      <td>1.0</td>\n",
              "      <td>2014.0</td>\n",
              "    </tr>\n",
              "    <tr>\n",
              "      <th>4</th>\n",
              "      <td>1</td>\n",
              "      <td>0</td>\n",
              "      <td>0</td>\n",
              "      <td>3</td>\n",
              "      <td>3</td>\n",
              "      <td>3</td>\n",
              "      <td>0.0</td>\n",
              "      <td>0.258</td>\n",
              "      <td>2</td>\n",
              "      <td>0</td>\n",
              "      <td>...</td>\n",
              "      <td>7.0</td>\n",
              "      <td>9.0</td>\n",
              "      <td>10.0</td>\n",
              "      <td>2013.0</td>\n",
              "      <td>9</td>\n",
              "      <td>10</td>\n",
              "      <td>2013</td>\n",
              "      <td>9.0</td>\n",
              "      <td>10.0</td>\n",
              "      <td>2013.0</td>\n",
              "    </tr>\n",
              "  </tbody>\n",
              "</table>\n",
              "<p>5 rows × 291 columns</p>\n",
              "</div>\n",
              "      <button class=\"colab-df-convert\" onclick=\"convertToInteractive('df-1567428a-319e-4f6a-84d0-fe8b176a4350')\"\n",
              "              title=\"Convert this dataframe to an interactive table.\"\n",
              "              style=\"display:none;\">\n",
              "        \n",
              "  <svg xmlns=\"http://www.w3.org/2000/svg\" height=\"24px\"viewBox=\"0 0 24 24\"\n",
              "       width=\"24px\">\n",
              "    <path d=\"M0 0h24v24H0V0z\" fill=\"none\"/>\n",
              "    <path d=\"M18.56 5.44l.94 2.06.94-2.06 2.06-.94-2.06-.94-.94-2.06-.94 2.06-2.06.94zm-11 1L8.5 8.5l.94-2.06 2.06-.94-2.06-.94L8.5 2.5l-.94 2.06-2.06.94zm10 10l.94 2.06.94-2.06 2.06-.94-2.06-.94-.94-2.06-.94 2.06-2.06.94z\"/><path d=\"M17.41 7.96l-1.37-1.37c-.4-.4-.92-.59-1.43-.59-.52 0-1.04.2-1.43.59L10.3 9.45l-7.72 7.72c-.78.78-.78 2.05 0 2.83L4 21.41c.39.39.9.59 1.41.59.51 0 1.02-.2 1.41-.59l7.78-7.78 2.81-2.81c.8-.78.8-2.07 0-2.86zM5.41 20L4 18.59l7.72-7.72 1.47 1.35L5.41 20z\"/>\n",
              "  </svg>\n",
              "      </button>\n",
              "      \n",
              "  <style>\n",
              "    .colab-df-container {\n",
              "      display:flex;\n",
              "      flex-wrap:wrap;\n",
              "      gap: 12px;\n",
              "    }\n",
              "\n",
              "    .colab-df-convert {\n",
              "      background-color: #E8F0FE;\n",
              "      border: none;\n",
              "      border-radius: 50%;\n",
              "      cursor: pointer;\n",
              "      display: none;\n",
              "      fill: #1967D2;\n",
              "      height: 32px;\n",
              "      padding: 0 0 0 0;\n",
              "      width: 32px;\n",
              "    }\n",
              "\n",
              "    .colab-df-convert:hover {\n",
              "      background-color: #E2EBFA;\n",
              "      box-shadow: 0px 1px 2px rgba(60, 64, 67, 0.3), 0px 1px 3px 1px rgba(60, 64, 67, 0.15);\n",
              "      fill: #174EA6;\n",
              "    }\n",
              "\n",
              "    [theme=dark] .colab-df-convert {\n",
              "      background-color: #3B4455;\n",
              "      fill: #D2E3FC;\n",
              "    }\n",
              "\n",
              "    [theme=dark] .colab-df-convert:hover {\n",
              "      background-color: #434B5C;\n",
              "      box-shadow: 0px 1px 3px 1px rgba(0, 0, 0, 0.15);\n",
              "      filter: drop-shadow(0px 1px 2px rgba(0, 0, 0, 0.3));\n",
              "      fill: #FFFFFF;\n",
              "    }\n",
              "  </style>\n",
              "\n",
              "      <script>\n",
              "        const buttonEl =\n",
              "          document.querySelector('#df-1567428a-319e-4f6a-84d0-fe8b176a4350 button.colab-df-convert');\n",
              "        buttonEl.style.display =\n",
              "          google.colab.kernel.accessAllowed ? 'block' : 'none';\n",
              "\n",
              "        async function convertToInteractive(key) {\n",
              "          const element = document.querySelector('#df-1567428a-319e-4f6a-84d0-fe8b176a4350');\n",
              "          const dataTable =\n",
              "            await google.colab.kernel.invokeFunction('convertToInteractive',\n",
              "                                                     [key], {});\n",
              "          if (!dataTable) return;\n",
              "\n",
              "          const docLinkHtml = 'Like what you see? Visit the ' +\n",
              "            '<a target=\"_blank\" href=https://colab.research.google.com/notebooks/data_table.ipynb>data table notebook</a>'\n",
              "            + ' to learn more about interactive tables.';\n",
              "          element.innerHTML = '';\n",
              "          dataTable['output_type'] = 'display_data';\n",
              "          await google.colab.output.renderOutput(dataTable, element);\n",
              "          const docLink = document.createElement('div');\n",
              "          docLink.innerHTML = docLinkHtml;\n",
              "          element.appendChild(docLink);\n",
              "        }\n",
              "      </script>\n",
              "    </div>\n",
              "  </div>\n",
              "  "
            ]
          },
          "metadata": {},
          "execution_count": 62
        }
      ]
    },
    {
      "cell_type": "code",
      "source": [
        "test_df.head()"
      ],
      "metadata": {
        "execution": {
          "iopub.status.busy": "2022-02-25T06:36:06.891357Z",
          "iopub.status.idle": "2022-02-25T06:36:06.891701Z",
          "shell.execute_reply.started": "2022-02-25T06:36:06.891516Z",
          "shell.execute_reply": "2022-02-25T06:36:06.891535Z"
        },
        "trusted": true,
        "colab": {
          "base_uri": "https://localhost:8080/",
          "height": 300
        },
        "id": "T3UDmRtfaMnU",
        "outputId": "ce14e0d8-0eb9-436e-8878-dff5d5be76e8"
      },
      "execution_count": 63,
      "outputs": [
        {
          "output_type": "execute_result",
          "data": {
            "text/plain": [
              "  feature_0 feature_1 feature_2 feature_3 feature_4  feature_14  feature_15  \\\n",
              "0         0         0         0         5         4       1.758   15.018333   \n",
              "1         0         0         3         5         3       0.000    0.000000   \n",
              "2         0         0         1         5         1       0.000    0.000000   \n",
              "3         0         0         3         5         4       0.000    0.000000   \n",
              "4         0         0         1         5         2       0.000    0.000000   \n",
              "\n",
              "  feature_16 feature_23 feature_24  ...  feature_191_month feature_192_day  \\\n",
              "0          0          0         19  ...                9.0             1.0   \n",
              "1          0          0         14  ...                1.0             8.0   \n",
              "2          0          0          8  ...                3.0            10.0   \n",
              "3          0          0         10  ...               11.0            27.0   \n",
              "4          1          0          8  ...                1.0            23.0   \n",
              "\n",
              "  feature_192_month feature_192_year feature_199_day feature_199_month  \\\n",
              "0               9.0           2017.0               1                 9   \n",
              "1               1.0           2017.0               8                 1   \n",
              "2               3.0           2017.0              10                 3   \n",
              "3               1.0           2015.0              27                 1   \n",
              "4               1.0           2017.0              23                 1   \n",
              "\n",
              "  feature_199_year feature_201_day feature_201_month  feature_201_year  \n",
              "0             2017             1.0               9.0            2017.0  \n",
              "1             2017             8.0               1.0            2017.0  \n",
              "2             2017            10.0               3.0            2017.0  \n",
              "3             2015            27.0               1.0            2015.0  \n",
              "4             2017            23.0               1.0            2017.0  \n",
              "\n",
              "[5 rows x 290 columns]"
            ],
            "text/html": [
              "\n",
              "  <div id=\"df-013a1c37-ffeb-4951-98f3-69422831b542\">\n",
              "    <div class=\"colab-df-container\">\n",
              "      <div>\n",
              "<style scoped>\n",
              "    .dataframe tbody tr th:only-of-type {\n",
              "        vertical-align: middle;\n",
              "    }\n",
              "\n",
              "    .dataframe tbody tr th {\n",
              "        vertical-align: top;\n",
              "    }\n",
              "\n",
              "    .dataframe thead th {\n",
              "        text-align: right;\n",
              "    }\n",
              "</style>\n",
              "<table border=\"1\" class=\"dataframe\">\n",
              "  <thead>\n",
              "    <tr style=\"text-align: right;\">\n",
              "      <th></th>\n",
              "      <th>feature_0</th>\n",
              "      <th>feature_1</th>\n",
              "      <th>feature_2</th>\n",
              "      <th>feature_3</th>\n",
              "      <th>feature_4</th>\n",
              "      <th>feature_14</th>\n",
              "      <th>feature_15</th>\n",
              "      <th>feature_16</th>\n",
              "      <th>feature_23</th>\n",
              "      <th>feature_24</th>\n",
              "      <th>...</th>\n",
              "      <th>feature_191_month</th>\n",
              "      <th>feature_192_day</th>\n",
              "      <th>feature_192_month</th>\n",
              "      <th>feature_192_year</th>\n",
              "      <th>feature_199_day</th>\n",
              "      <th>feature_199_month</th>\n",
              "      <th>feature_199_year</th>\n",
              "      <th>feature_201_day</th>\n",
              "      <th>feature_201_month</th>\n",
              "      <th>feature_201_year</th>\n",
              "    </tr>\n",
              "  </thead>\n",
              "  <tbody>\n",
              "    <tr>\n",
              "      <th>0</th>\n",
              "      <td>0</td>\n",
              "      <td>0</td>\n",
              "      <td>0</td>\n",
              "      <td>5</td>\n",
              "      <td>4</td>\n",
              "      <td>1.758</td>\n",
              "      <td>15.018333</td>\n",
              "      <td>0</td>\n",
              "      <td>0</td>\n",
              "      <td>19</td>\n",
              "      <td>...</td>\n",
              "      <td>9.0</td>\n",
              "      <td>1.0</td>\n",
              "      <td>9.0</td>\n",
              "      <td>2017.0</td>\n",
              "      <td>1</td>\n",
              "      <td>9</td>\n",
              "      <td>2017</td>\n",
              "      <td>1.0</td>\n",
              "      <td>9.0</td>\n",
              "      <td>2017.0</td>\n",
              "    </tr>\n",
              "    <tr>\n",
              "      <th>1</th>\n",
              "      <td>0</td>\n",
              "      <td>0</td>\n",
              "      <td>3</td>\n",
              "      <td>5</td>\n",
              "      <td>3</td>\n",
              "      <td>0.000</td>\n",
              "      <td>0.000000</td>\n",
              "      <td>0</td>\n",
              "      <td>0</td>\n",
              "      <td>14</td>\n",
              "      <td>...</td>\n",
              "      <td>1.0</td>\n",
              "      <td>8.0</td>\n",
              "      <td>1.0</td>\n",
              "      <td>2017.0</td>\n",
              "      <td>8</td>\n",
              "      <td>1</td>\n",
              "      <td>2017</td>\n",
              "      <td>8.0</td>\n",
              "      <td>1.0</td>\n",
              "      <td>2017.0</td>\n",
              "    </tr>\n",
              "    <tr>\n",
              "      <th>2</th>\n",
              "      <td>0</td>\n",
              "      <td>0</td>\n",
              "      <td>1</td>\n",
              "      <td>5</td>\n",
              "      <td>1</td>\n",
              "      <td>0.000</td>\n",
              "      <td>0.000000</td>\n",
              "      <td>0</td>\n",
              "      <td>0</td>\n",
              "      <td>8</td>\n",
              "      <td>...</td>\n",
              "      <td>3.0</td>\n",
              "      <td>10.0</td>\n",
              "      <td>3.0</td>\n",
              "      <td>2017.0</td>\n",
              "      <td>10</td>\n",
              "      <td>3</td>\n",
              "      <td>2017</td>\n",
              "      <td>10.0</td>\n",
              "      <td>3.0</td>\n",
              "      <td>2017.0</td>\n",
              "    </tr>\n",
              "    <tr>\n",
              "      <th>3</th>\n",
              "      <td>0</td>\n",
              "      <td>0</td>\n",
              "      <td>3</td>\n",
              "      <td>5</td>\n",
              "      <td>4</td>\n",
              "      <td>0.000</td>\n",
              "      <td>0.000000</td>\n",
              "      <td>0</td>\n",
              "      <td>0</td>\n",
              "      <td>10</td>\n",
              "      <td>...</td>\n",
              "      <td>11.0</td>\n",
              "      <td>27.0</td>\n",
              "      <td>1.0</td>\n",
              "      <td>2015.0</td>\n",
              "      <td>27</td>\n",
              "      <td>1</td>\n",
              "      <td>2015</td>\n",
              "      <td>27.0</td>\n",
              "      <td>1.0</td>\n",
              "      <td>2015.0</td>\n",
              "    </tr>\n",
              "    <tr>\n",
              "      <th>4</th>\n",
              "      <td>0</td>\n",
              "      <td>0</td>\n",
              "      <td>1</td>\n",
              "      <td>5</td>\n",
              "      <td>2</td>\n",
              "      <td>0.000</td>\n",
              "      <td>0.000000</td>\n",
              "      <td>1</td>\n",
              "      <td>0</td>\n",
              "      <td>8</td>\n",
              "      <td>...</td>\n",
              "      <td>1.0</td>\n",
              "      <td>23.0</td>\n",
              "      <td>1.0</td>\n",
              "      <td>2017.0</td>\n",
              "      <td>23</td>\n",
              "      <td>1</td>\n",
              "      <td>2017</td>\n",
              "      <td>23.0</td>\n",
              "      <td>1.0</td>\n",
              "      <td>2017.0</td>\n",
              "    </tr>\n",
              "  </tbody>\n",
              "</table>\n",
              "<p>5 rows × 290 columns</p>\n",
              "</div>\n",
              "      <button class=\"colab-df-convert\" onclick=\"convertToInteractive('df-013a1c37-ffeb-4951-98f3-69422831b542')\"\n",
              "              title=\"Convert this dataframe to an interactive table.\"\n",
              "              style=\"display:none;\">\n",
              "        \n",
              "  <svg xmlns=\"http://www.w3.org/2000/svg\" height=\"24px\"viewBox=\"0 0 24 24\"\n",
              "       width=\"24px\">\n",
              "    <path d=\"M0 0h24v24H0V0z\" fill=\"none\"/>\n",
              "    <path d=\"M18.56 5.44l.94 2.06.94-2.06 2.06-.94-2.06-.94-.94-2.06-.94 2.06-2.06.94zm-11 1L8.5 8.5l.94-2.06 2.06-.94-2.06-.94L8.5 2.5l-.94 2.06-2.06.94zm10 10l.94 2.06.94-2.06 2.06-.94-2.06-.94-.94-2.06-.94 2.06-2.06.94z\"/><path d=\"M17.41 7.96l-1.37-1.37c-.4-.4-.92-.59-1.43-.59-.52 0-1.04.2-1.43.59L10.3 9.45l-7.72 7.72c-.78.78-.78 2.05 0 2.83L4 21.41c.39.39.9.59 1.41.59.51 0 1.02-.2 1.41-.59l7.78-7.78 2.81-2.81c.8-.78.8-2.07 0-2.86zM5.41 20L4 18.59l7.72-7.72 1.47 1.35L5.41 20z\"/>\n",
              "  </svg>\n",
              "      </button>\n",
              "      \n",
              "  <style>\n",
              "    .colab-df-container {\n",
              "      display:flex;\n",
              "      flex-wrap:wrap;\n",
              "      gap: 12px;\n",
              "    }\n",
              "\n",
              "    .colab-df-convert {\n",
              "      background-color: #E8F0FE;\n",
              "      border: none;\n",
              "      border-radius: 50%;\n",
              "      cursor: pointer;\n",
              "      display: none;\n",
              "      fill: #1967D2;\n",
              "      height: 32px;\n",
              "      padding: 0 0 0 0;\n",
              "      width: 32px;\n",
              "    }\n",
              "\n",
              "    .colab-df-convert:hover {\n",
              "      background-color: #E2EBFA;\n",
              "      box-shadow: 0px 1px 2px rgba(60, 64, 67, 0.3), 0px 1px 3px 1px rgba(60, 64, 67, 0.15);\n",
              "      fill: #174EA6;\n",
              "    }\n",
              "\n",
              "    [theme=dark] .colab-df-convert {\n",
              "      background-color: #3B4455;\n",
              "      fill: #D2E3FC;\n",
              "    }\n",
              "\n",
              "    [theme=dark] .colab-df-convert:hover {\n",
              "      background-color: #434B5C;\n",
              "      box-shadow: 0px 1px 3px 1px rgba(0, 0, 0, 0.15);\n",
              "      filter: drop-shadow(0px 1px 2px rgba(0, 0, 0, 0.3));\n",
              "      fill: #FFFFFF;\n",
              "    }\n",
              "  </style>\n",
              "\n",
              "      <script>\n",
              "        const buttonEl =\n",
              "          document.querySelector('#df-013a1c37-ffeb-4951-98f3-69422831b542 button.colab-df-convert');\n",
              "        buttonEl.style.display =\n",
              "          google.colab.kernel.accessAllowed ? 'block' : 'none';\n",
              "\n",
              "        async function convertToInteractive(key) {\n",
              "          const element = document.querySelector('#df-013a1c37-ffeb-4951-98f3-69422831b542');\n",
              "          const dataTable =\n",
              "            await google.colab.kernel.invokeFunction('convertToInteractive',\n",
              "                                                     [key], {});\n",
              "          if (!dataTable) return;\n",
              "\n",
              "          const docLinkHtml = 'Like what you see? Visit the ' +\n",
              "            '<a target=\"_blank\" href=https://colab.research.google.com/notebooks/data_table.ipynb>data table notebook</a>'\n",
              "            + ' to learn more about interactive tables.';\n",
              "          element.innerHTML = '';\n",
              "          dataTable['output_type'] = 'display_data';\n",
              "          await google.colab.output.renderOutput(dataTable, element);\n",
              "          const docLink = document.createElement('div');\n",
              "          docLink.innerHTML = docLinkHtml;\n",
              "          element.appendChild(docLink);\n",
              "        }\n",
              "      </script>\n",
              "    </div>\n",
              "  </div>\n",
              "  "
            ]
          },
          "metadata": {},
          "execution_count": 63
        }
      ]
    },
    {
      "cell_type": "markdown",
      "source": [
        "#6.filling na values with -1 "
      ],
      "metadata": {
        "id": "lDrA7wU4aMnW"
      }
    },
    {
      "cell_type": "code",
      "source": [
        "df.fillna(-1,inplace=True)\n",
        "test_df.fillna(-1,inplace=True)"
      ],
      "metadata": {
        "execution": {
          "iopub.status.busy": "2022-02-25T06:36:07.063228Z",
          "iopub.execute_input": "2022-02-25T06:36:07.064379Z",
          "iopub.status.idle": "2022-02-25T06:36:07.086962Z",
          "shell.execute_reply.started": "2022-02-25T06:36:07.0643Z",
          "shell.execute_reply": "2022-02-25T06:36:07.085259Z"
        },
        "trusted": true,
        "id": "ZcJcU8_FaMnX"
      },
      "execution_count": 64,
      "outputs": []
    },
    {
      "cell_type": "code",
      "source": [
        "X_train=df.drop('target',axis=1)\n",
        "y_train=df['target']"
      ],
      "metadata": {
        "id": "PU6ZBwogGs6h"
      },
      "execution_count": 66,
      "outputs": []
    },
    {
      "cell_type": "code",
      "source": [
        "columns_with_na=[column for column in X_train.columns if X_train[column].isna().sum()>0]"
      ],
      "metadata": {
        "execution": {
          "iopub.status.busy": "2022-02-25T06:36:07.094638Z",
          "iopub.status.idle": "2022-02-25T06:36:07.095172Z",
          "shell.execute_reply.started": "2022-02-25T06:36:07.09487Z",
          "shell.execute_reply": "2022-02-25T06:36:07.094899Z"
        },
        "trusted": true,
        "id": "2Ja_pvlraMna"
      },
      "execution_count": 67,
      "outputs": []
    },
    {
      "cell_type": "code",
      "source": [
        "columns_with_na"
      ],
      "metadata": {
        "execution": {
          "iopub.status.busy": "2022-02-25T06:36:07.170103Z",
          "iopub.execute_input": "2022-02-25T06:36:07.171044Z",
          "iopub.status.idle": "2022-02-25T06:36:07.188963Z",
          "shell.execute_reply.started": "2022-02-25T06:36:07.170993Z",
          "shell.execute_reply": "2022-02-25T06:36:07.187437Z"
        },
        "trusted": true,
        "colab": {
          "base_uri": "https://localhost:8080/"
        },
        "id": "BItLqdt9aMna",
        "outputId": "9c2ccdf7-3351-45cb-eec5-60ca63762db2"
      },
      "execution_count": 68,
      "outputs": [
        {
          "output_type": "execute_result",
          "data": {
            "text/plain": [
              "[]"
            ]
          },
          "metadata": {},
          "execution_count": 68
        }
      ]
    },
    {
      "cell_type": "code",
      "source": [
        "# no na values now"
      ],
      "metadata": {
        "execution": {
          "iopub.status.busy": "2022-02-25T06:36:07.190303Z",
          "iopub.status.idle": "2022-02-25T06:36:07.19073Z",
          "shell.execute_reply.started": "2022-02-25T06:36:07.190514Z",
          "shell.execute_reply": "2022-02-25T06:36:07.190547Z"
        },
        "trusted": true,
        "id": "XiKdznSraMnb"
      },
      "execution_count": 69,
      "outputs": []
    },
    {
      "cell_type": "code",
      "source": [
        "sns.countplot(df['target'])"
      ],
      "metadata": {
        "execution": {
          "iopub.status.busy": "2022-02-25T06:36:07.208596Z",
          "iopub.execute_input": "2022-02-25T06:36:07.209092Z",
          "iopub.status.idle": "2022-02-25T06:36:07.226516Z",
          "shell.execute_reply.started": "2022-02-25T06:36:07.20904Z",
          "shell.execute_reply": "2022-02-25T06:36:07.22491Z"
        },
        "trusted": true,
        "colab": {
          "base_uri": "https://localhost:8080/",
          "height": 296
        },
        "id": "UqTkJ7qCaMnb",
        "outputId": "c47bf738-43c8-4587-93a7-97a7075030e4"
      },
      "execution_count": 70,
      "outputs": [
        {
          "output_type": "execute_result",
          "data": {
            "text/plain": [
              "<matplotlib.axes._subplots.AxesSubplot at 0x7f505f9a3f90>"
            ]
          },
          "metadata": {},
          "execution_count": 70
        },
        {
          "output_type": "display_data",
          "data": {
            "text/plain": [
              "<Figure size 432x288 with 1 Axes>"
            ],
            "image/png": "[encoded data removed]"
          },
          "metadata": {
            "needs_background": "light"
          }
        }
      ]
    },
    {
      "cell_type": "markdown",
      "source": [
        "#7.Train the model with XGBoost Classifier"
      ],
      "metadata": {
        "id": "b2RsuOuSaMnY"
      }
    },
    {
      "cell_type": "code",
      "source": [
        "df.drop('target',axis=1).shape"
      ],
      "metadata": {
        "id": "u_SKQ3t5fMfQ",
        "outputId": "f2afa9ca-2776-4860-ebb3-d066e149e182",
        "colab": {
          "base_uri": "https://localhost:8080/"
        }
      },
      "execution_count": 71,
      "outputs": [
        {
          "output_type": "execute_result",
          "data": {
            "text/plain": [
              "(70000, 290)"
            ]
          },
          "metadata": {},
          "execution_count": 71
        }
      ]
    },
    {
      "cell_type": "code",
      "source": [
        "X_train.shape"
      ],
      "metadata": {
        "execution": {
          "iopub.status.busy": "2022-02-25T06:36:07.227825Z",
          "iopub.status.idle": "2022-02-25T06:36:07.22844Z",
          "shell.execute_reply.started": "2022-02-25T06:36:07.228086Z",
          "shell.execute_reply": "2022-02-25T06:36:07.228132Z"
        },
        "trusted": true,
        "colab": {
          "base_uri": "https://localhost:8080/"
        },
        "id": "AH9CODKgaMnc",
        "outputId": "90ef0d12-0fee-4c93-c049-306343484628"
      },
      "execution_count": 72,
      "outputs": [
        {
          "output_type": "execute_result",
          "data": {
            "text/plain": [
              "(70000, 290)"
            ]
          },
          "metadata": {},
          "execution_count": 72
        }
      ]
    },
    {
      "cell_type": "code",
      "source": [
        "test_df.shape"
      ],
      "metadata": {
        "colab": {
          "base_uri": "https://localhost:8080/"
        },
        "id": "bSQTyc1X1wQm",
        "outputId": "37d4e4e3-b0b9-4c8d-835c-c9fc26224158"
      },
      "execution_count": 73,
      "outputs": [
        {
          "output_type": "execute_result",
          "data": {
            "text/plain": [
              "(30000, 290)"
            ]
          },
          "metadata": {},
          "execution_count": 73
        }
      ]
    },
    {
      "cell_type": "code",
      "source": [
        "from xgboost import XGBClassifier"
      ],
      "metadata": {
        "id": "9dRDOW4J1Y-f"
      },
      "execution_count": 74,
      "outputs": []
    },
    {
      "cell_type": "code",
      "source": [
        "xgboost_model = XGBClassifier(use_label_encoder=False, eval_metric='auc')"
      ],
      "metadata": {
        "id": "dPeD_tiG8mnM"
      },
      "execution_count": 101,
      "outputs": []
    },
    {
      "cell_type": "code",
      "source": [
        "xgboost_model.fit(X_train, y_train, verbose=False)"
      ],
      "metadata": {
        "colab": {
          "base_uri": "https://localhost:8080/"
        },
        "id": "HzaUqTbu8txR",
        "outputId": "d1067566-f94f-4b37-b304-ac22166aac35"
      },
      "execution_count": 102,
      "outputs": [
        {
          "output_type": "execute_result",
          "data": {
            "text/plain": [
              "XGBClassifier(eval_metric='auc', use_label_encoder=False)"
            ]
          },
          "metadata": {},
          "execution_count": 102
        }
      ]
    },
    {
      "cell_type": "code",
      "source": [
        "xgboost_pred = xgboost_model.predict(test_df)"
      ],
      "metadata": {
        "id": "pMKk2cwb80wy"
      },
      "execution_count": 103,
      "outputs": []
    },
    {
      "cell_type": "code",
      "source": [
        "xgboost_pred"
      ],
      "metadata": {
        "colab": {
          "base_uri": "https://localhost:8080/"
        },
        "id": "v-pzN-vZHFr4",
        "outputId": "1219d61a-40d4-4897-da9d-a6b9e0de077c"
      },
      "execution_count": 78,
      "outputs": [
        {
          "output_type": "execute_result",
          "data": {
            "text/plain": [
              "array([0, 0, 0, ..., 0, 0, 0])"
            ]
          },
          "metadata": {},
          "execution_count": 78
        }
      ]
    },
    {
      "cell_type": "code",
      "source": [
        "len(xgboost_pred)"
      ],
      "metadata": {
        "colab": {
          "base_uri": "https://localhost:8080/"
        },
        "id": "48I9_DLRH3Ir",
        "outputId": "59a8eb10-3a85-4859-df84-7eb89538b13d"
      },
      "execution_count": 104,
      "outputs": [
        {
          "output_type": "execute_result",
          "data": {
            "text/plain": [
              "30000"
            ]
          },
          "metadata": {},
          "execution_count": 104
        }
      ]
    },
    {
      "cell_type": "code",
      "source": [
        "id_list[0]"
      ],
      "metadata": {
        "colab": {
          "base_uri": "https://localhost:8080/"
        },
        "id": "DM6EPwHDJ4qZ",
        "outputId": "480cc3a0-e29f-45dc-e4f1-72b8cc4db274"
      },
      "execution_count": 105,
      "outputs": [
        {
          "output_type": "execute_result",
          "data": {
            "text/plain": [
              "5"
            ]
          },
          "metadata": {},
          "execution_count": 105
        }
      ]
    },
    {
      "cell_type": "code",
      "source": [
        "import csv"
      ],
      "metadata": {
        "id": "ZwUZJ9t2KTaH"
      },
      "execution_count": 81,
      "outputs": []
    },
    {
      "cell_type": "code",
      "source": [
        "with open('XGBoost_auc_submission.csv', 'w') as fp:\n",
        "  writer = csv.writer(fp)\n",
        "  writer.writerow(['id', 'target'])\n",
        "  for i in range(len(xgboost_pred)):\n",
        "    writer.writerow([id_list[i], xgboost_pred[i]])"
      ],
      "metadata": {
        "id": "hmNDL8JxJcBd"
      },
      "execution_count": 106,
      "outputs": []
    }
  ]
}